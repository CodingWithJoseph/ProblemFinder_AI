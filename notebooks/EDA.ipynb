{
 "cells": [
  {
   "cell_type": "code",
   "id": "initial_id",
   "metadata": {
    "collapsed": true,
    "ExecuteTime": {
     "end_time": "2025-05-20T19:21:58.385407Z",
     "start_time": "2025-05-20T19:21:58.191357Z"
    }
   },
   "source": [
    "import pandas as pd\n",
    "import matplotlib.pyplot as plt\n",
    "\n",
    "import warnings\n",
    "\n",
    "# Suppress Warnings\n",
    "import warnings\n",
    "warnings.filterwarnings('ignore')"
   ],
   "outputs": [],
   "execution_count": 23
  },
  {
   "metadata": {
    "ExecuteTime": {
     "end_time": "2025-05-20T19:21:59.062823Z",
     "start_time": "2025-05-20T19:21:59.041736Z"
    }
   },
   "cell_type": "code",
   "source": "data = pd.read_csv('../data/labeled_post.csv')",
   "id": "aa6eba15bea03338",
   "outputs": [],
   "execution_count": 24
  },
  {
   "metadata": {
    "ExecuteTime": {
     "end_time": "2025-05-20T19:21:59.785967Z",
     "start_time": "2025-05-20T19:21:59.781226Z"
    }
   },
   "cell_type": "code",
   "source": "data.info()\n",
   "id": "df795ec701a33bff",
   "outputs": [
    {
     "name": "stdout",
     "output_type": "stream",
     "text": [
      "<class 'pandas.core.frame.DataFrame'>\n",
      "RangeIndex: 498 entries, 0 to 497\n",
      "Data columns (total 32 columns):\n",
      " #   Column                 Non-Null Count  Dtype  \n",
      "---  ------                 --------------  -----  \n",
      " 0   id                     498 non-null    int64  \n",
      " 1   title                  498 non-null    object \n",
      " 2   body                   498 non-null    object \n",
      " 3   subreddit              498 non-null    object \n",
      " 4   url                    498 non-null    object \n",
      " 5   score                  498 non-null    int64  \n",
      " 6   num_comments           498 non-null    int64  \n",
      " 7   upvote_ratio           498 non-null    float64\n",
      " 8   created_utc            498 non-null    float64\n",
      " 9   author                 498 non-null    object \n",
      " 10  is_original_content    498 non-null    bool   \n",
      " 11  edited                 498 non-null    bool   \n",
      " 12  total_awards_received  498 non-null    int64  \n",
      " 13  gilded                 498 non-null    int64  \n",
      " 14  search_query           498 non-null    object \n",
      " 15  title_length           498 non-null    int64  \n",
      " 16  body_length            498 non-null    int64  \n",
      " 17  title_word_count       498 non-null    int64  \n",
      " 18  body_word_count        498 non-null    int64  \n",
      " 19  has_question_mark      498 non-null    int64  \n",
      " 20  engagement_ratio       498 non-null    float64\n",
      " 21  award_score_ratio      498 non-null    float64\n",
      " 22  popularity_score       498 non-null    float64\n",
      " 23  created_datetime       498 non-null    object \n",
      " 24  post_hour              498 non-null    int64  \n",
      " 25  post_day               498 non-null    object \n",
      " 26  is_weekend             498 non-null    int64  \n",
      " 27  query_category         142 non-null    object \n",
      " 28  market_viability       498 non-null    object \n",
      " 29  time_to_mvp            498 non-null    object \n",
      " 30  business_model         498 non-null    object \n",
      " 31  has_been_labeled       498 non-null    int64  \n",
      "dtypes: bool(2), float64(5), int64(13), object(12)\n",
      "memory usage: 117.8+ KB\n"
     ]
    }
   ],
   "execution_count": 25
  },
  {
   "metadata": {
    "ExecuteTime": {
     "end_time": "2025-05-20T20:09:00.367723Z",
     "start_time": "2025-05-20T20:08:59.985796Z"
    }
   },
   "cell_type": "code",
   "source": "data.drop(['url', 'created_datetime', 'query_category', 'time_to_mvp', 'business_model', 'has_been_labeled'], axis=1, inplace=True)",
   "id": "a46a9876248a7c87",
   "outputs": [
    {
     "ename": "KeyError",
     "evalue": "\"['url', 'created_datetime', 'query_category', 'time_to_mvp', 'business_model', 'has_been_labeled'] not found in axis\"",
     "output_type": "error",
     "traceback": [
      "\u001B[31m---------------------------------------------------------------------------\u001B[39m",
      "\u001B[31mKeyError\u001B[39m                                  Traceback (most recent call last)",
      "\u001B[36mCell\u001B[39m\u001B[36m \u001B[39m\u001B[32mIn[36]\u001B[39m\u001B[32m, line 1\u001B[39m\n\u001B[32m----> \u001B[39m\u001B[32m1\u001B[39m \u001B[43mdata\u001B[49m\u001B[43m.\u001B[49m\u001B[43mdrop\u001B[49m\u001B[43m(\u001B[49m\u001B[43m[\u001B[49m\u001B[33;43m'\u001B[39;49m\u001B[33;43murl\u001B[39;49m\u001B[33;43m'\u001B[39;49m\u001B[43m,\u001B[49m\u001B[43m \u001B[49m\u001B[33;43m'\u001B[39;49m\u001B[33;43mcreated_datetime\u001B[39;49m\u001B[33;43m'\u001B[39;49m\u001B[43m,\u001B[49m\u001B[43m \u001B[49m\u001B[33;43m'\u001B[39;49m\u001B[33;43mquery_category\u001B[39;49m\u001B[33;43m'\u001B[39;49m\u001B[43m,\u001B[49m\u001B[43m \u001B[49m\u001B[33;43m'\u001B[39;49m\u001B[33;43mtime_to_mvp\u001B[39;49m\u001B[33;43m'\u001B[39;49m\u001B[43m,\u001B[49m\u001B[43m \u001B[49m\u001B[33;43m'\u001B[39;49m\u001B[33;43mbusiness_model\u001B[39;49m\u001B[33;43m'\u001B[39;49m\u001B[43m,\u001B[49m\u001B[43m \u001B[49m\u001B[33;43m'\u001B[39;49m\u001B[33;43mhas_been_labeled\u001B[39;49m\u001B[33;43m'\u001B[39;49m\u001B[43m]\u001B[49m\u001B[43m,\u001B[49m\u001B[43m \u001B[49m\u001B[43maxis\u001B[49m\u001B[43m=\u001B[49m\u001B[32;43m1\u001B[39;49m\u001B[43m,\u001B[49m\u001B[43m \u001B[49m\u001B[43minplace\u001B[49m\u001B[43m=\u001B[49m\u001B[38;5;28;43;01mTrue\u001B[39;49;00m\u001B[43m)\u001B[49m\n\u001B[32m      2\u001B[39m data.to_csv(\u001B[33m'\u001B[39m\u001B[33mlabeled_post_cleaned.csv\u001B[39m\u001B[33m'\u001B[39m, index=\u001B[38;5;28;01mFalse\u001B[39;00m)\n",
      "\u001B[36mFile \u001B[39m\u001B[32m~\\OneDrive\\Desktop\\Software\\RedditProblemFinder\\.venv\\Lib\\site-packages\\pandas\\core\\frame.py:5581\u001B[39m, in \u001B[36mDataFrame.drop\u001B[39m\u001B[34m(self, labels, axis, index, columns, level, inplace, errors)\u001B[39m\n\u001B[32m   5433\u001B[39m \u001B[38;5;28;01mdef\u001B[39;00m\u001B[38;5;250m \u001B[39m\u001B[34mdrop\u001B[39m(\n\u001B[32m   5434\u001B[39m     \u001B[38;5;28mself\u001B[39m,\n\u001B[32m   5435\u001B[39m     labels: IndexLabel | \u001B[38;5;28;01mNone\u001B[39;00m = \u001B[38;5;28;01mNone\u001B[39;00m,\n\u001B[32m   (...)\u001B[39m\u001B[32m   5442\u001B[39m     errors: IgnoreRaise = \u001B[33m\"\u001B[39m\u001B[33mraise\u001B[39m\u001B[33m\"\u001B[39m,\n\u001B[32m   5443\u001B[39m ) -> DataFrame | \u001B[38;5;28;01mNone\u001B[39;00m:\n\u001B[32m   5444\u001B[39m \u001B[38;5;250m    \u001B[39m\u001B[33;03m\"\"\"\u001B[39;00m\n\u001B[32m   5445\u001B[39m \u001B[33;03m    Drop specified labels from rows or columns.\u001B[39;00m\n\u001B[32m   5446\u001B[39m \n\u001B[32m   (...)\u001B[39m\u001B[32m   5579\u001B[39m \u001B[33;03m            weight  1.0     0.8\u001B[39;00m\n\u001B[32m   5580\u001B[39m \u001B[33;03m    \"\"\"\u001B[39;00m\n\u001B[32m-> \u001B[39m\u001B[32m5581\u001B[39m     \u001B[38;5;28;01mreturn\u001B[39;00m \u001B[38;5;28;43msuper\u001B[39;49m\u001B[43m(\u001B[49m\u001B[43m)\u001B[49m\u001B[43m.\u001B[49m\u001B[43mdrop\u001B[49m\u001B[43m(\u001B[49m\n\u001B[32m   5582\u001B[39m \u001B[43m        \u001B[49m\u001B[43mlabels\u001B[49m\u001B[43m=\u001B[49m\u001B[43mlabels\u001B[49m\u001B[43m,\u001B[49m\n\u001B[32m   5583\u001B[39m \u001B[43m        \u001B[49m\u001B[43maxis\u001B[49m\u001B[43m=\u001B[49m\u001B[43maxis\u001B[49m\u001B[43m,\u001B[49m\n\u001B[32m   5584\u001B[39m \u001B[43m        \u001B[49m\u001B[43mindex\u001B[49m\u001B[43m=\u001B[49m\u001B[43mindex\u001B[49m\u001B[43m,\u001B[49m\n\u001B[32m   5585\u001B[39m \u001B[43m        \u001B[49m\u001B[43mcolumns\u001B[49m\u001B[43m=\u001B[49m\u001B[43mcolumns\u001B[49m\u001B[43m,\u001B[49m\n\u001B[32m   5586\u001B[39m \u001B[43m        \u001B[49m\u001B[43mlevel\u001B[49m\u001B[43m=\u001B[49m\u001B[43mlevel\u001B[49m\u001B[43m,\u001B[49m\n\u001B[32m   5587\u001B[39m \u001B[43m        \u001B[49m\u001B[43minplace\u001B[49m\u001B[43m=\u001B[49m\u001B[43minplace\u001B[49m\u001B[43m,\u001B[49m\n\u001B[32m   5588\u001B[39m \u001B[43m        \u001B[49m\u001B[43merrors\u001B[49m\u001B[43m=\u001B[49m\u001B[43merrors\u001B[49m\u001B[43m,\u001B[49m\n\u001B[32m   5589\u001B[39m \u001B[43m    \u001B[49m\u001B[43m)\u001B[49m\n",
      "\u001B[36mFile \u001B[39m\u001B[32m~\\OneDrive\\Desktop\\Software\\RedditProblemFinder\\.venv\\Lib\\site-packages\\pandas\\core\\generic.py:4788\u001B[39m, in \u001B[36mNDFrame.drop\u001B[39m\u001B[34m(self, labels, axis, index, columns, level, inplace, errors)\u001B[39m\n\u001B[32m   4786\u001B[39m \u001B[38;5;28;01mfor\u001B[39;00m axis, labels \u001B[38;5;129;01min\u001B[39;00m axes.items():\n\u001B[32m   4787\u001B[39m     \u001B[38;5;28;01mif\u001B[39;00m labels \u001B[38;5;129;01mis\u001B[39;00m \u001B[38;5;129;01mnot\u001B[39;00m \u001B[38;5;28;01mNone\u001B[39;00m:\n\u001B[32m-> \u001B[39m\u001B[32m4788\u001B[39m         obj = \u001B[43mobj\u001B[49m\u001B[43m.\u001B[49m\u001B[43m_drop_axis\u001B[49m\u001B[43m(\u001B[49m\u001B[43mlabels\u001B[49m\u001B[43m,\u001B[49m\u001B[43m \u001B[49m\u001B[43maxis\u001B[49m\u001B[43m,\u001B[49m\u001B[43m \u001B[49m\u001B[43mlevel\u001B[49m\u001B[43m=\u001B[49m\u001B[43mlevel\u001B[49m\u001B[43m,\u001B[49m\u001B[43m \u001B[49m\u001B[43merrors\u001B[49m\u001B[43m=\u001B[49m\u001B[43merrors\u001B[49m\u001B[43m)\u001B[49m\n\u001B[32m   4790\u001B[39m \u001B[38;5;28;01mif\u001B[39;00m inplace:\n\u001B[32m   4791\u001B[39m     \u001B[38;5;28mself\u001B[39m._update_inplace(obj)\n",
      "\u001B[36mFile \u001B[39m\u001B[32m~\\OneDrive\\Desktop\\Software\\RedditProblemFinder\\.venv\\Lib\\site-packages\\pandas\\core\\generic.py:4830\u001B[39m, in \u001B[36mNDFrame._drop_axis\u001B[39m\u001B[34m(self, labels, axis, level, errors, only_slice)\u001B[39m\n\u001B[32m   4828\u001B[39m         new_axis = axis.drop(labels, level=level, errors=errors)\n\u001B[32m   4829\u001B[39m     \u001B[38;5;28;01melse\u001B[39;00m:\n\u001B[32m-> \u001B[39m\u001B[32m4830\u001B[39m         new_axis = \u001B[43maxis\u001B[49m\u001B[43m.\u001B[49m\u001B[43mdrop\u001B[49m\u001B[43m(\u001B[49m\u001B[43mlabels\u001B[49m\u001B[43m,\u001B[49m\u001B[43m \u001B[49m\u001B[43merrors\u001B[49m\u001B[43m=\u001B[49m\u001B[43merrors\u001B[49m\u001B[43m)\u001B[49m\n\u001B[32m   4831\u001B[39m     indexer = axis.get_indexer(new_axis)\n\u001B[32m   4833\u001B[39m \u001B[38;5;66;03m# Case for non-unique axis\u001B[39;00m\n\u001B[32m   4834\u001B[39m \u001B[38;5;28;01melse\u001B[39;00m:\n",
      "\u001B[36mFile \u001B[39m\u001B[32m~\\OneDrive\\Desktop\\Software\\RedditProblemFinder\\.venv\\Lib\\site-packages\\pandas\\core\\indexes\\base.py:7070\u001B[39m, in \u001B[36mIndex.drop\u001B[39m\u001B[34m(self, labels, errors)\u001B[39m\n\u001B[32m   7068\u001B[39m \u001B[38;5;28;01mif\u001B[39;00m mask.any():\n\u001B[32m   7069\u001B[39m     \u001B[38;5;28;01mif\u001B[39;00m errors != \u001B[33m\"\u001B[39m\u001B[33mignore\u001B[39m\u001B[33m\"\u001B[39m:\n\u001B[32m-> \u001B[39m\u001B[32m7070\u001B[39m         \u001B[38;5;28;01mraise\u001B[39;00m \u001B[38;5;167;01mKeyError\u001B[39;00m(\u001B[33mf\u001B[39m\u001B[33m\"\u001B[39m\u001B[38;5;132;01m{\u001B[39;00mlabels[mask].tolist()\u001B[38;5;132;01m}\u001B[39;00m\u001B[33m not found in axis\u001B[39m\u001B[33m\"\u001B[39m)\n\u001B[32m   7071\u001B[39m     indexer = indexer[~mask]\n\u001B[32m   7072\u001B[39m \u001B[38;5;28;01mreturn\u001B[39;00m \u001B[38;5;28mself\u001B[39m.delete(indexer)\n",
      "\u001B[31mKeyError\u001B[39m: \"['url', 'created_datetime', 'query_category', 'time_to_mvp', 'business_model', 'has_been_labeled'] not found in axis\""
     ]
    }
   ],
   "execution_count": 36
  },
  {
   "metadata": {
    "ExecuteTime": {
     "end_time": "2025-05-20T19:22:01.970520Z",
     "start_time": "2025-05-20T19:22:01.951101Z"
    }
   },
   "cell_type": "code",
   "source": [
    "# Calculate character and word lengths for titles and bodies\n",
    "title_char_lengths = data['title'].str.len()\n",
    "title_word_counts = data['title'].str.split().str.len()\n",
    "\n",
    "body_char_lengths = data['body'].str.len()\n",
    "body_word_counts = data['body'].str.split().str.len()\n",
    "text_structure_all = pd.DataFrame({\n",
    "    'title_char_length': title_char_lengths,\n",
    "    'title_word_count': title_word_counts,\n",
    "    'body_char_length': body_char_lengths,\n",
    "    'body_word_count': body_word_counts}\n",
    ")\n",
    "\n",
    "text_structure_all.describe()"
   ],
   "id": "db825a7a7b1153d3",
   "outputs": [
    {
     "data": {
      "text/plain": [
       "       title_char_length  title_word_count  body_char_length  body_word_count\n",
       "count         498.000000        498.000000        498.000000       498.000000\n",
       "mean           54.429719          9.391566       3316.058233       529.242972\n",
       "std            32.671342          5.664788       5628.097999       844.142077\n",
       "min             2.000000          1.000000         14.000000         2.000000\n",
       "25%            31.000000          6.000000        802.250000       135.500000\n",
       "50%            49.000000          9.000000       1582.000000       264.000000\n",
       "75%            70.000000         12.000000       3384.250000       579.750000\n",
       "max           277.000000         49.000000      39930.000000      6637.000000"
      ],
      "text/html": [
       "<div>\n",
       "<style scoped>\n",
       "    .dataframe tbody tr th:only-of-type {\n",
       "        vertical-align: middle;\n",
       "    }\n",
       "\n",
       "    .dataframe tbody tr th {\n",
       "        vertical-align: top;\n",
       "    }\n",
       "\n",
       "    .dataframe thead th {\n",
       "        text-align: right;\n",
       "    }\n",
       "</style>\n",
       "<table border=\"1\" class=\"dataframe\">\n",
       "  <thead>\n",
       "    <tr style=\"text-align: right;\">\n",
       "      <th></th>\n",
       "      <th>title_char_length</th>\n",
       "      <th>title_word_count</th>\n",
       "      <th>body_char_length</th>\n",
       "      <th>body_word_count</th>\n",
       "    </tr>\n",
       "  </thead>\n",
       "  <tbody>\n",
       "    <tr>\n",
       "      <th>count</th>\n",
       "      <td>498.000000</td>\n",
       "      <td>498.000000</td>\n",
       "      <td>498.000000</td>\n",
       "      <td>498.000000</td>\n",
       "    </tr>\n",
       "    <tr>\n",
       "      <th>mean</th>\n",
       "      <td>54.429719</td>\n",
       "      <td>9.391566</td>\n",
       "      <td>3316.058233</td>\n",
       "      <td>529.242972</td>\n",
       "    </tr>\n",
       "    <tr>\n",
       "      <th>std</th>\n",
       "      <td>32.671342</td>\n",
       "      <td>5.664788</td>\n",
       "      <td>5628.097999</td>\n",
       "      <td>844.142077</td>\n",
       "    </tr>\n",
       "    <tr>\n",
       "      <th>min</th>\n",
       "      <td>2.000000</td>\n",
       "      <td>1.000000</td>\n",
       "      <td>14.000000</td>\n",
       "      <td>2.000000</td>\n",
       "    </tr>\n",
       "    <tr>\n",
       "      <th>25%</th>\n",
       "      <td>31.000000</td>\n",
       "      <td>6.000000</td>\n",
       "      <td>802.250000</td>\n",
       "      <td>135.500000</td>\n",
       "    </tr>\n",
       "    <tr>\n",
       "      <th>50%</th>\n",
       "      <td>49.000000</td>\n",
       "      <td>9.000000</td>\n",
       "      <td>1582.000000</td>\n",
       "      <td>264.000000</td>\n",
       "    </tr>\n",
       "    <tr>\n",
       "      <th>75%</th>\n",
       "      <td>70.000000</td>\n",
       "      <td>12.000000</td>\n",
       "      <td>3384.250000</td>\n",
       "      <td>579.750000</td>\n",
       "    </tr>\n",
       "    <tr>\n",
       "      <th>max</th>\n",
       "      <td>277.000000</td>\n",
       "      <td>49.000000</td>\n",
       "      <td>39930.000000</td>\n",
       "      <td>6637.000000</td>\n",
       "    </tr>\n",
       "  </tbody>\n",
       "</table>\n",
       "</div>"
      ]
     },
     "execution_count": 27,
     "metadata": {},
     "output_type": "execute_result"
    }
   ],
   "execution_count": 27
  },
  {
   "metadata": {
    "ExecuteTime": {
     "end_time": "2025-05-20T19:24:56.605848Z",
     "start_time": "2025-05-20T19:24:56.300766Z"
    }
   },
   "cell_type": "code",
   "source": [
    "plt.figure(figsize=(12, 10))\n",
    "\n",
    "# Title length histograms\n",
    "plt.subplot(2, 2, 1)\n",
    "plt.hist(title_char_lengths, bins=100, alpha=0.7)\n",
    "plt.title('Title Character Length Distribution')\n",
    "plt.xlabel('Character Count')\n",
    "plt.ylabel('Frequency')\n",
    "\n",
    "plt.subplot(2, 2, 2)\n",
    "plt.hist(title_word_counts, bins=100, alpha=0.7)\n",
    "plt.title('Title Word Count Distribution')\n",
    "plt.xlabel('Word Count')\n",
    "plt.ylabel('Frequency')\n",
    "\n",
    "# Body length histograms\n",
    "plt.subplot(2, 2, 3)\n",
    "plt.hist(body_char_lengths, bins=100, alpha=0.7)\n",
    "plt.title('Body Character Length Distribution')\n",
    "plt.xlabel('Character Count')\n",
    "plt.ylabel('Frequency')\n",
    "\n",
    "plt.subplot(2, 2, 4)\n",
    "plt.hist(body_word_counts, bins=100, alpha=0.7)\n",
    "plt.title('Body Word Count Distribution')\n",
    "plt.xlabel('Word Count')\n",
    "plt.ylabel('Frequency')\n",
    "\n",
    "plt.tight_layout()\n",
    "plt.show()"
   ],
   "id": "ee9e1158f768e1ca",
   "outputs": [
    {
     "data": {
      "text/plain": [
       "<Figure size 1200x1000 with 4 Axes>"
      ],
      "image/png": "[encoded data removed]"
     },
     "metadata": {},
     "output_type": "display_data"
    }
   ],
   "execution_count": 29
  },
  {
   "metadata": {
    "ExecuteTime": {
     "end_time": "2025-05-20T19:55:03.493398Z",
     "start_time": "2025-05-20T19:55:03.482349Z"
    }
   },
   "cell_type": "code",
   "source": [
    "# Calculate character and word lengths for titles and bodies\n",
    "title_char_lengths = data[data['market_viability'] == 'Viable']['title'].str.len()\n",
    "title_word_counts = data[data['market_viability'] == 'Viable']['title'].str.split().str.len()\n",
    "\n",
    "body_char_lengths = data[data['market_viability'] == 'Viable']['body'].str.len()\n",
    "body_word_counts = data[data['market_viability'] == 'Viable']['body'].str.split().str.len()\n",
    "text_structure_positives = pd.DataFrame({\n",
    "    'title_char_length': title_char_lengths,\n",
    "    'title_word_count': title_word_counts,\n",
    "    'body_char_length': body_char_lengths,\n",
    "    'body_word_count': body_word_counts}\n",
    ")\n",
    "\n",
    "text_structure_positives.describe()"
   ],
   "id": "55ee563b33c2a053",
   "outputs": [
    {
     "data": {
      "text/plain": [
       "       title_char_length  title_word_count  body_char_length  body_word_count\n",
       "count          99.000000         99.000000         99.000000        99.000000\n",
       "mean           58.000000          9.646465       2828.585859       436.838384\n",
       "std            27.761374          5.008795       3450.000278       504.950022\n",
       "min            10.000000          1.000000        179.000000        34.000000\n",
       "25%            39.500000          6.000000        808.000000       139.000000\n",
       "50%            56.000000          9.000000       1580.000000       267.000000\n",
       "75%            73.500000         13.000000       3242.500000       539.000000\n",
       "max           134.000000         25.000000      19744.000000      3153.000000"
      ],
      "text/html": [
       "<div>\n",
       "<style scoped>\n",
       "    .dataframe tbody tr th:only-of-type {\n",
       "        vertical-align: middle;\n",
       "    }\n",
       "\n",
       "    .dataframe tbody tr th {\n",
       "        vertical-align: top;\n",
       "    }\n",
       "\n",
       "    .dataframe thead th {\n",
       "        text-align: right;\n",
       "    }\n",
       "</style>\n",
       "<table border=\"1\" class=\"dataframe\">\n",
       "  <thead>\n",
       "    <tr style=\"text-align: right;\">\n",
       "      <th></th>\n",
       "      <th>title_char_length</th>\n",
       "      <th>title_word_count</th>\n",
       "      <th>body_char_length</th>\n",
       "      <th>body_word_count</th>\n",
       "    </tr>\n",
       "  </thead>\n",
       "  <tbody>\n",
       "    <tr>\n",
       "      <th>count</th>\n",
       "      <td>99.000000</td>\n",
       "      <td>99.000000</td>\n",
       "      <td>99.000000</td>\n",
       "      <td>99.000000</td>\n",
       "    </tr>\n",
       "    <tr>\n",
       "      <th>mean</th>\n",
       "      <td>58.000000</td>\n",
       "      <td>9.646465</td>\n",
       "      <td>2828.585859</td>\n",
       "      <td>436.838384</td>\n",
       "    </tr>\n",
       "    <tr>\n",
       "      <th>std</th>\n",
       "      <td>27.761374</td>\n",
       "      <td>5.008795</td>\n",
       "      <td>3450.000278</td>\n",
       "      <td>504.950022</td>\n",
       "    </tr>\n",
       "    <tr>\n",
       "      <th>min</th>\n",
       "      <td>10.000000</td>\n",
       "      <td>1.000000</td>\n",
       "      <td>179.000000</td>\n",
       "      <td>34.000000</td>\n",
       "    </tr>\n",
       "    <tr>\n",
       "      <th>25%</th>\n",
       "      <td>39.500000</td>\n",
       "      <td>6.000000</td>\n",
       "      <td>808.000000</td>\n",
       "      <td>139.000000</td>\n",
       "    </tr>\n",
       "    <tr>\n",
       "      <th>50%</th>\n",
       "      <td>56.000000</td>\n",
       "      <td>9.000000</td>\n",
       "      <td>1580.000000</td>\n",
       "      <td>267.000000</td>\n",
       "    </tr>\n",
       "    <tr>\n",
       "      <th>75%</th>\n",
       "      <td>73.500000</td>\n",
       "      <td>13.000000</td>\n",
       "      <td>3242.500000</td>\n",
       "      <td>539.000000</td>\n",
       "    </tr>\n",
       "    <tr>\n",
       "      <th>max</th>\n",
       "      <td>134.000000</td>\n",
       "      <td>25.000000</td>\n",
       "      <td>19744.000000</td>\n",
       "      <td>3153.000000</td>\n",
       "    </tr>\n",
       "  </tbody>\n",
       "</table>\n",
       "</div>"
      ]
     },
     "execution_count": 35,
     "metadata": {},
     "output_type": "execute_result"
    }
   ],
   "execution_count": 35
  },
  {
   "metadata": {
    "ExecuteTime": {
     "end_time": "2025-05-20T20:13:39.559623Z",
     "start_time": "2025-05-20T20:13:39.555817Z"
    }
   },
   "cell_type": "code",
   "source": [
    "print(len(data.subreddit.unique()))\n",
    "data.subreddit.value_counts()\n"
   ],
   "id": "d4b076cd172b9fee",
   "outputs": [
    {
     "name": "stdout",
     "output_type": "stream",
     "text": [
      "449\n"
     ]
    },
    {
     "data": {
      "text/plain": [
       "subreddit\n",
       "Advice                 6\n",
       "relationship_advice    5\n",
       "AITAH                  4\n",
       "SideProject            3\n",
       "buildapc               3\n",
       "                      ..\n",
       "cinematography         1\n",
       "Plumbing               1\n",
       "dndcommissions         1\n",
       "askapsychologist       1\n",
       "u_theonlineforyou      1\n",
       "Name: count, Length: 449, dtype: int64"
      ]
     },
     "execution_count": 47,
     "metadata": {},
     "output_type": "execute_result"
    }
   ],
   "execution_count": 47
  },
  {
   "metadata": {
    "ExecuteTime": {
     "end_time": "2025-05-20T20:14:07.082484Z",
     "start_time": "2025-05-20T20:14:07.078507Z"
    }
   },
   "cell_type": "code",
   "source": [
    "print(len(data[data['market_viability'] == 'Viable'].subreddit.unique()))\n",
    "data[data['market_viability'] == 'Viable'].subreddit.value_counts()"
   ],
   "id": "68ef2907991a2e52",
   "outputs": [
    {
     "name": "stdout",
     "output_type": "stream",
     "text": [
      "96\n"
     ]
    },
    {
     "data": {
      "text/plain": [
       "subreddit\n",
       "u_YeiXui               2\n",
       "SaaS                   2\n",
       "AnalyticsAutomation    2\n",
       "GetPaidToPlay          1\n",
       "iphone                 1\n",
       "                      ..\n",
       "cryptostudy            1\n",
       "PlantIdentification    1\n",
       "productivity           1\n",
       "Business_Ideas         1\n",
       "careeradvice           1\n",
       "Name: count, Length: 96, dtype: int64"
      ]
     },
     "execution_count": 49,
     "metadata": {},
     "output_type": "execute_result"
    }
   ],
   "execution_count": 49
  },
  {
   "metadata": {},
   "cell_type": "code",
   "outputs": [],
   "execution_count": null,
   "source": "",
   "id": "9a3e17f7791a9aeb"
  }
 ],
 "metadata": {
  "kernelspec": {
   "display_name": "Python 3",
   "language": "python",
   "name": "python3"
  },
  "language_info": {
   "codemirror_mode": {
    "name": "ipython",
    "version": 2
   },
   "file_extension": ".py",
   "mimetype": "text/x-python",
   "name": "python",
   "nbconvert_exporter": "python",
   "pygments_lexer": "ipython2",
   "version": "2.7.6"
  }
 },
 "nbformat": 4,
 "nbformat_minor": 5
}
