{
 "cells": [
  {
   "cell_type": "code",
   "id": "initial_id",
   "metadata": {
    "collapsed": true,
    "ExecuteTime": {
     "end_time": "2025-05-15T06:49:06.015690Z",
     "start_time": "2025-05-15T06:49:06.012654Z"
    }
   },
   "source": [
    "import numpy as np\n",
    "import pandas as pd\n",
    "import ipywidgets as widgets\n",
    "from IPython.display import display, clear_output"
   ],
   "outputs": [],
   "execution_count": 7
  },
  {
   "metadata": {
    "ExecuteTime": {
     "end_time": "2025-05-15T07:54:23.292827Z",
     "start_time": "2025-05-15T07:54:23.267537Z"
    }
   },
   "cell_type": "code",
   "source": "data = pd.read_csv('../data/labeled_post.csv')",
   "id": "aa6eba15bea03338",
   "outputs": [],
   "execution_count": 19
  },
  {
   "metadata": {
    "ExecuteTime": {
     "end_time": "2025-05-15T06:49:06.555259Z",
     "start_time": "2025-05-15T06:49:06.534376Z"
    }
   },
   "cell_type": "code",
   "source": [
    "current_index = 0\n",
    "show_all = False  # Flag to control what posts to show\n",
    "\n",
    "def create_post_html(post):\n",
    "    return f\"\"\"\n",
    "    <div style='margin-bottom: 20px'>\n",
    "        <h3>Post {current_index + 1} of {len(filtered_data())}</h3>\n",
    "        <h4>Title:</h4> {post['title']}\n",
    "        <h4>Body:</h4> {post['body'][:1500]}{\"...\" if len(str(post['body'])) > 1500 else \"\"}\n",
    "        <h4>Subreddit:</h4> {post['subreddit']}\n",
    "        <h4>Score:</h4> {post['score']}\n",
    "        <h4>Comments:</h4> {post['num_comments']}\n",
    "        <h4>Current labels:</h4>\n",
    "        <ul>\n",
    "            <li>Is Problem: {post.get('is_problem', 'Not labeled')}</li>\n",
    "            <li>Problem Type: {post.get('problem_type', 'Not labeled')}</li>\n",
    "            <li>Difficulty: {post.get('difficulty', 'Not labeled')}</li>\n",
    "        </ul>\n",
    "    </div>\n",
    "    \"\"\"\n",
    "\n",
    "def filtered_data():\n",
    "    if show_all:\n",
    "        return data\n",
    "    return data[data['has_been_labeled'] != 1]\n",
    "\n",
    "# Create an output widget for post-content and status\n",
    "post_output = widgets.HTML()\n",
    "status_output = widgets.HTML()\n",
    "\n",
    "def update_status():\n",
    "    total = len(data)\n",
    "    labeled = (data['has_been_labeled'] == 1).sum()\n",
    "    unlabeled = total - labeled\n",
    "    status_output.value = f\"\"\"\n",
    "    <p>Progress: {labeled} labeled, {unlabeled} remaining\n",
    "       <br>Showing: {\"All Posts\" if show_all else \"Unlabeled Posts Only\"}</p>\n",
    "    \"\"\"\n",
    "\n",
    "def show_post():\n",
    "    if len(filtered_data()) > 0:\n",
    "        post = filtered_data().iloc[current_index]\n",
    "        post_output.value = create_post_html(post)\n",
    "    else:\n",
    "        post_output.value = \"<h3>No posts to show with current filter</h3>\"\n",
    "    update_status()\n",
    "\n",
    "def on_next_clicked(b):\n",
    "    print(\"Next button clicked\")\n",
    "    global current_index\n",
    "\n",
    "    data.at[current_index, 'has_been_labeled'] = 1\n",
    "    auto_save()\n",
    "\n",
    "    if current_index < len(filtered_data()) - 1:\n",
    "        current_index += 1\n",
    "        show_post()\n",
    "\n",
    "def on_prev_clicked(b):\n",
    "    global current_index\n",
    "    if current_index > 0:\n",
    "        current_index -= 1\n",
    "        show_post()\n",
    "\n",
    "def on_label_change(change):\n",
    "    current_post_idx = filtered_data().index[current_index]\n",
    "    data.at[current_post_idx, 'is_problem'] = is_problem.value\n",
    "    data.at[current_post_idx, 'problem_type'] = problem_type.value\n",
    "    data.at[current_post_idx, 'difficulty'] = difficulty.value\n",
    "    update_status()\n",
    "\n",
    "def auto_save():\n",
    "    print('Auto-saving progress...')\n",
    "    data.to_csv('../data/labeled_post.csv', index=False)\n",
    "    update_status()\n",
    "\n",
    "def toggle_view(b):\n",
    "    global current_index, show_all\n",
    "    show_all = not show_all\n",
    "    current_index = 0  # Reset to the first post when switching views\n",
    "    toggle_button.description = 'Showing: ' + ('All' if show_all else 'Unlabeled')\n",
    "    show_post()\n",
    "\n",
    "# Create widgets\n",
    "prev_button = widgets.Button(\n",
    "    description='Previous',\n",
    "    button_style='info',\n",
    "    layout=widgets.Layout(width='100px')\n",
    ")\n",
    "next_button = widgets.Button(\n",
    "    description='Next',\n",
    "    button_style='info',\n",
    "    layout=widgets.Layout(width='100px')\n",
    ")\n",
    "\n",
    "toggle_button = widgets.Button(\n",
    "    description='Showing: Unlabeled',\n",
    "    button_style='warning',\n",
    "    layout=widgets.Layout(width='150px')\n",
    ")\n",
    "\n",
    "is_problem = widgets.Dropdown(\n",
    "    options=[0, 1],\n",
    "    description='Is Problem:',\n",
    "    layout=widgets.Layout(width='300px')\n",
    ")\n",
    "\n",
    "problem_type = widgets.Dropdown(\n",
    "    options=[\n",
    "        (0, 'Not a Problem'),\n",
    "        (1, 'Software Search'),\n",
    "        (2, 'Alternative Seeking'),\n",
    "        (3, 'Automation Need'),\n",
    "        (4, 'Feature Request'),\n",
    "        (5, 'Integration/Technical')\n",
    "    ],\n",
    "    description='Problem Type:',\n",
    "    layout=widgets.Layout(width='300px')\n",
    ")\n",
    "\n",
    "difficulty = widgets.Dropdown(\n",
    "    options=[0, 1, 2, 3],\n",
    "    description='Difficulty:',\n",
    "    layout=widgets.Layout(width='300px')\n",
    ")\n",
    "\n",
    "# Register callbacks\n",
    "prev_button.on_click(on_prev_clicked)\n",
    "next_button.on_click(on_next_clicked)\n",
    "toggle_button.on_click(toggle_view)\n",
    "is_problem.observe(on_label_change, names='value')\n",
    "problem_type.observe(on_label_change, names='value')\n",
    "difficulty.observe(on_label_change, names='value')\n",
    "\n",
    "# Create the layout\n",
    "navigation = widgets.HBox([prev_button, next_button, toggle_button])\n",
    "controls = widgets.VBox([is_problem, problem_type, difficulty])\n",
    "layout = widgets.VBox([post_output, status_output, navigation, controls])\n",
    "\n",
    "# Initial display\n",
    "show_post()\n",
    "display(layout)"
   ],
   "id": "5e8023c161e28d34",
   "outputs": [
    {
     "data": {
      "text/plain": [
       "VBox(children=(HTML(value=\"\\n    <div style='margin-bottom: 20px'>\\n        <h3>Post 1 of 456</h3>\\n        <h…"
      ],
      "application/vnd.jupyter.widget-view+json": {
       "version_major": 2,
       "version_minor": 0,
       "model_id": "7425ff7e6c3047978f687c189d84e159"
      }
     },
     "metadata": {},
     "output_type": "display_data"
    }
   ],
   "execution_count": 12
  }
 ],
 "metadata": {
  "kernelspec": {
   "display_name": "Python 3",
   "language": "python",
   "name": "python3"
  },
  "language_info": {
   "codemirror_mode": {
    "name": "ipython",
    "version": 2
   },
   "file_extension": ".py",
   "mimetype": "text/x-python",
   "name": "python",
   "nbconvert_exporter": "python",
   "pygments_lexer": "ipython2",
   "version": "2.7.6"
  }
 },
 "nbformat": 4,
 "nbformat_minor": 5
}
