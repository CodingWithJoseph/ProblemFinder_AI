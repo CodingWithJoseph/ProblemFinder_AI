{
 "cells": [
  {
   "cell_type": "code",
   "id": "initial_id",
   "metadata": {
    "collapsed": true,
    "ExecuteTime": {
     "end_time": "2025-05-14T23:45:39.961429Z",
     "start_time": "2025-05-14T23:45:39.755928Z"
    }
   },
   "source": [
    "import pandas as pd\n",
    "import numpy as np"
   ],
   "outputs": [],
   "execution_count": 1
  },
  {
   "metadata": {
    "ExecuteTime": {
     "end_time": "2025-05-14T23:47:36.519992Z",
     "start_time": "2025-05-14T23:47:36.498951Z"
    }
   },
   "cell_type": "code",
   "source": "data = pd.read_csv('../data/labeled_post.csv')",
   "id": "aa6eba15bea03338",
   "outputs": [],
   "execution_count": 9
  },
  {
   "metadata": {
    "ExecuteTime": {
     "end_time": "2025-05-14T23:47:36.787098Z",
     "start_time": "2025-05-14T23:47:36.781447Z"
    }
   },
   "cell_type": "code",
   "source": "data.head()",
   "id": "247d5fd137167bf5",
   "outputs": [
    {
     "data": {
      "text/plain": [
       "                                               title  \\\n",
       "0                            Have I hit the jackpot?   \n",
       "1  Travel MRI Tech assignment in Huntington WVa w...   \n",
       "2  Sportradar goes full platform guru in Brazil. ...   \n",
       "3  Help Build the Ultimate Get Paid To Play Offer...   \n",
       "4  No cameras working DS-7616NI-SE/P, no POE ligh...   \n",
       "\n",
       "                                                body              subreddit  \\\n",
       "0  Hi REP community! I’m an amateur female creato...  RealEstatePhotography   \n",
       "1  Hi everyone.\\n\\nSiemens is looking for an expe...                    MRI   \n",
       "2  Oh, look who's trying to reinvent themselves. ...             cataclysms   \n",
       "3  Welcome to the Megalist of Games - our growing...          GetPaidToPlay   \n",
       "4  I have hit a wall with the troubleshooting her...              Hikvision   \n",
       "\n",
       "                                                 url  score  num_comments  \\\n",
       "0             https://www.reddit.com/gallery/1kmomx4      0            10   \n",
       "1  https://www.reddit.com/r/MRI/comments/1kmqv5e/...      2             1   \n",
       "2  https://www.reddit.com/r/cataclysms/comments/1...      2             0   \n",
       "3  https://www.reddit.com/r/GetPaidToPlay/comment...     12            11   \n",
       "4  https://www.reddit.com/r/Hikvision/comments/1k...      1             3   \n",
       "\n",
       "   upvote_ratio   created_utc                author  is_original_content  \\\n",
       "0          0.23  1.747252e+09            Kaenatseth                False   \n",
       "1          1.00  1.747258e+09  Fuzzy_Barracuda_7160                False   \n",
       "2          1.00  1.747142e+09      cracking_cracker                False   \n",
       "3          1.00  1.747235e+09           TightAsF_ck                False   \n",
       "4          1.00  1.746760e+09              lifelink                False   \n",
       "\n",
       "   edited        link_flair_text  total_awards_received  gilded  \\\n",
       "0   False                    NaN                      0       0   \n",
       "1   False                    NaN                      0       0   \n",
       "2   False                    NaN                      0       0   \n",
       "3    True  Guide :GetPaidToPlay:                      0       0   \n",
       "4    True                    NaN                      0       0   \n",
       "\n",
       "              search_query  \n",
       "0   recommend software for  \n",
       "1   looking for program to  \n",
       "2        tired of manually  \n",
       "3             app to track  \n",
       "4  does software exist for  "
      ],
      "text/html": [
       "<div>\n",
       "<style scoped>\n",
       "    .dataframe tbody tr th:only-of-type {\n",
       "        vertical-align: middle;\n",
       "    }\n",
       "\n",
       "    .dataframe tbody tr th {\n",
       "        vertical-align: top;\n",
       "    }\n",
       "\n",
       "    .dataframe thead th {\n",
       "        text-align: right;\n",
       "    }\n",
       "</style>\n",
       "<table border=\"1\" class=\"dataframe\">\n",
       "  <thead>\n",
       "    <tr style=\"text-align: right;\">\n",
       "      <th></th>\n",
       "      <th>title</th>\n",
       "      <th>body</th>\n",
       "      <th>subreddit</th>\n",
       "      <th>url</th>\n",
       "      <th>score</th>\n",
       "      <th>num_comments</th>\n",
       "      <th>upvote_ratio</th>\n",
       "      <th>created_utc</th>\n",
       "      <th>author</th>\n",
       "      <th>is_original_content</th>\n",
       "      <th>edited</th>\n",
       "      <th>link_flair_text</th>\n",
       "      <th>total_awards_received</th>\n",
       "      <th>gilded</th>\n",
       "      <th>search_query</th>\n",
       "    </tr>\n",
       "  </thead>\n",
       "  <tbody>\n",
       "    <tr>\n",
       "      <th>0</th>\n",
       "      <td>Have I hit the jackpot?</td>\n",
       "      <td>Hi REP community! I’m an amateur female creato...</td>\n",
       "      <td>RealEstatePhotography</td>\n",
       "      <td>https://www.reddit.com/gallery/1kmomx4</td>\n",
       "      <td>0</td>\n",
       "      <td>10</td>\n",
       "      <td>0.23</td>\n",
       "      <td>1.747252e+09</td>\n",
       "      <td>Kaenatseth</td>\n",
       "      <td>False</td>\n",
       "      <td>False</td>\n",
       "      <td>NaN</td>\n",
       "      <td>0</td>\n",
       "      <td>0</td>\n",
       "      <td>recommend software for</td>\n",
       "    </tr>\n",
       "    <tr>\n",
       "      <th>1</th>\n",
       "      <td>Travel MRI Tech assignment in Huntington WVa w...</td>\n",
       "      <td>Hi everyone.\\n\\nSiemens is looking for an expe...</td>\n",
       "      <td>MRI</td>\n",
       "      <td>https://www.reddit.com/r/MRI/comments/1kmqv5e/...</td>\n",
       "      <td>2</td>\n",
       "      <td>1</td>\n",
       "      <td>1.00</td>\n",
       "      <td>1.747258e+09</td>\n",
       "      <td>Fuzzy_Barracuda_7160</td>\n",
       "      <td>False</td>\n",
       "      <td>False</td>\n",
       "      <td>NaN</td>\n",
       "      <td>0</td>\n",
       "      <td>0</td>\n",
       "      <td>looking for program to</td>\n",
       "    </tr>\n",
       "    <tr>\n",
       "      <th>2</th>\n",
       "      <td>Sportradar goes full platform guru in Brazil. ...</td>\n",
       "      <td>Oh, look who's trying to reinvent themselves. ...</td>\n",
       "      <td>cataclysms</td>\n",
       "      <td>https://www.reddit.com/r/cataclysms/comments/1...</td>\n",
       "      <td>2</td>\n",
       "      <td>0</td>\n",
       "      <td>1.00</td>\n",
       "      <td>1.747142e+09</td>\n",
       "      <td>cracking_cracker</td>\n",
       "      <td>False</td>\n",
       "      <td>False</td>\n",
       "      <td>NaN</td>\n",
       "      <td>0</td>\n",
       "      <td>0</td>\n",
       "      <td>tired of manually</td>\n",
       "    </tr>\n",
       "    <tr>\n",
       "      <th>3</th>\n",
       "      <td>Help Build the Ultimate Get Paid To Play Offer...</td>\n",
       "      <td>Welcome to the Megalist of Games - our growing...</td>\n",
       "      <td>GetPaidToPlay</td>\n",
       "      <td>https://www.reddit.com/r/GetPaidToPlay/comment...</td>\n",
       "      <td>12</td>\n",
       "      <td>11</td>\n",
       "      <td>1.00</td>\n",
       "      <td>1.747235e+09</td>\n",
       "      <td>TightAsF_ck</td>\n",
       "      <td>False</td>\n",
       "      <td>True</td>\n",
       "      <td>Guide :GetPaidToPlay:</td>\n",
       "      <td>0</td>\n",
       "      <td>0</td>\n",
       "      <td>app to track</td>\n",
       "    </tr>\n",
       "    <tr>\n",
       "      <th>4</th>\n",
       "      <td>No cameras working DS-7616NI-SE/P, no POE ligh...</td>\n",
       "      <td>I have hit a wall with the troubleshooting her...</td>\n",
       "      <td>Hikvision</td>\n",
       "      <td>https://www.reddit.com/r/Hikvision/comments/1k...</td>\n",
       "      <td>1</td>\n",
       "      <td>3</td>\n",
       "      <td>1.00</td>\n",
       "      <td>1.746760e+09</td>\n",
       "      <td>lifelink</td>\n",
       "      <td>False</td>\n",
       "      <td>True</td>\n",
       "      <td>NaN</td>\n",
       "      <td>0</td>\n",
       "      <td>0</td>\n",
       "      <td>does software exist for</td>\n",
       "    </tr>\n",
       "  </tbody>\n",
       "</table>\n",
       "</div>"
      ]
     },
     "execution_count": 10,
     "metadata": {},
     "output_type": "execute_result"
    }
   ],
   "execution_count": 10
  },
  {
   "metadata": {
    "ExecuteTime": {
     "end_time": "2025-05-14T23:47:37.633732Z",
     "start_time": "2025-05-14T23:47:37.625132Z"
    }
   },
   "cell_type": "code",
   "source": "data.describe()",
   "id": "2e2e3cf24cc8541",
   "outputs": [
    {
     "data": {
      "text/plain": [
       "            score  num_comments  upvote_ratio   created_utc  \\\n",
       "count  500.000000    500.000000    500.000000  5.000000e+02   \n",
       "mean     7.664000      5.408000      0.896080  1.747205e+09   \n",
       "std     24.386071     11.099727      0.197961  1.208906e+05   \n",
       "min      0.000000      0.000000      0.080000  1.746544e+09   \n",
       "25%      1.000000      0.000000      0.890000  1.747228e+09   \n",
       "50%      1.000000      2.000000      1.000000  1.747251e+09   \n",
       "75%      3.000000      6.000000      1.000000  1.747262e+09   \n",
       "max    306.000000    110.000000      1.000000  1.747266e+09   \n",
       "\n",
       "       total_awards_received  gilded  \n",
       "count                  500.0   500.0  \n",
       "mean                     0.0     0.0  \n",
       "std                      0.0     0.0  \n",
       "min                      0.0     0.0  \n",
       "25%                      0.0     0.0  \n",
       "50%                      0.0     0.0  \n",
       "75%                      0.0     0.0  \n",
       "max                      0.0     0.0  "
      ],
      "text/html": [
       "<div>\n",
       "<style scoped>\n",
       "    .dataframe tbody tr th:only-of-type {\n",
       "        vertical-align: middle;\n",
       "    }\n",
       "\n",
       "    .dataframe tbody tr th {\n",
       "        vertical-align: top;\n",
       "    }\n",
       "\n",
       "    .dataframe thead th {\n",
       "        text-align: right;\n",
       "    }\n",
       "</style>\n",
       "<table border=\"1\" class=\"dataframe\">\n",
       "  <thead>\n",
       "    <tr style=\"text-align: right;\">\n",
       "      <th></th>\n",
       "      <th>score</th>\n",
       "      <th>num_comments</th>\n",
       "      <th>upvote_ratio</th>\n",
       "      <th>created_utc</th>\n",
       "      <th>total_awards_received</th>\n",
       "      <th>gilded</th>\n",
       "    </tr>\n",
       "  </thead>\n",
       "  <tbody>\n",
       "    <tr>\n",
       "      <th>count</th>\n",
       "      <td>500.000000</td>\n",
       "      <td>500.000000</td>\n",
       "      <td>500.000000</td>\n",
       "      <td>5.000000e+02</td>\n",
       "      <td>500.0</td>\n",
       "      <td>500.0</td>\n",
       "    </tr>\n",
       "    <tr>\n",
       "      <th>mean</th>\n",
       "      <td>7.664000</td>\n",
       "      <td>5.408000</td>\n",
       "      <td>0.896080</td>\n",
       "      <td>1.747205e+09</td>\n",
       "      <td>0.0</td>\n",
       "      <td>0.0</td>\n",
       "    </tr>\n",
       "    <tr>\n",
       "      <th>std</th>\n",
       "      <td>24.386071</td>\n",
       "      <td>11.099727</td>\n",
       "      <td>0.197961</td>\n",
       "      <td>1.208906e+05</td>\n",
       "      <td>0.0</td>\n",
       "      <td>0.0</td>\n",
       "    </tr>\n",
       "    <tr>\n",
       "      <th>min</th>\n",
       "      <td>0.000000</td>\n",
       "      <td>0.000000</td>\n",
       "      <td>0.080000</td>\n",
       "      <td>1.746544e+09</td>\n",
       "      <td>0.0</td>\n",
       "      <td>0.0</td>\n",
       "    </tr>\n",
       "    <tr>\n",
       "      <th>25%</th>\n",
       "      <td>1.000000</td>\n",
       "      <td>0.000000</td>\n",
       "      <td>0.890000</td>\n",
       "      <td>1.747228e+09</td>\n",
       "      <td>0.0</td>\n",
       "      <td>0.0</td>\n",
       "    </tr>\n",
       "    <tr>\n",
       "      <th>50%</th>\n",
       "      <td>1.000000</td>\n",
       "      <td>2.000000</td>\n",
       "      <td>1.000000</td>\n",
       "      <td>1.747251e+09</td>\n",
       "      <td>0.0</td>\n",
       "      <td>0.0</td>\n",
       "    </tr>\n",
       "    <tr>\n",
       "      <th>75%</th>\n",
       "      <td>3.000000</td>\n",
       "      <td>6.000000</td>\n",
       "      <td>1.000000</td>\n",
       "      <td>1.747262e+09</td>\n",
       "      <td>0.0</td>\n",
       "      <td>0.0</td>\n",
       "    </tr>\n",
       "    <tr>\n",
       "      <th>max</th>\n",
       "      <td>306.000000</td>\n",
       "      <td>110.000000</td>\n",
       "      <td>1.000000</td>\n",
       "      <td>1.747266e+09</td>\n",
       "      <td>0.0</td>\n",
       "      <td>0.0</td>\n",
       "    </tr>\n",
       "  </tbody>\n",
       "</table>\n",
       "</div>"
      ]
     },
     "execution_count": 11,
     "metadata": {},
     "output_type": "execute_result"
    }
   ],
   "execution_count": 11
  },
  {
   "metadata": {
    "ExecuteTime": {
     "end_time": "2025-05-14T23:47:38.483305Z",
     "start_time": "2025-05-14T23:47:38.478941Z"
    }
   },
   "cell_type": "code",
   "source": "data.info()",
   "id": "537da9050b46215d",
   "outputs": [
    {
     "name": "stdout",
     "output_type": "stream",
     "text": [
      "<class 'pandas.core.frame.DataFrame'>\n",
      "RangeIndex: 500 entries, 0 to 499\n",
      "Data columns (total 15 columns):\n",
      " #   Column                 Non-Null Count  Dtype  \n",
      "---  ------                 --------------  -----  \n",
      " 0   title                  500 non-null    object \n",
      " 1   body                   498 non-null    object \n",
      " 2   subreddit              500 non-null    object \n",
      " 3   url                    500 non-null    object \n",
      " 4   score                  500 non-null    int64  \n",
      " 5   num_comments           500 non-null    int64  \n",
      " 6   upvote_ratio           500 non-null    float64\n",
      " 7   created_utc            500 non-null    float64\n",
      " 8   author                 500 non-null    object \n",
      " 9   is_original_content    500 non-null    bool   \n",
      " 10  edited                 500 non-null    bool   \n",
      " 11  link_flair_text        236 non-null    object \n",
      " 12  total_awards_received  500 non-null    int64  \n",
      " 13  gilded                 500 non-null    int64  \n",
      " 14  search_query           500 non-null    object \n",
      "dtypes: bool(2), float64(2), int64(4), object(7)\n",
      "memory usage: 51.9+ KB\n"
     ]
    }
   ],
   "execution_count": 12
  },
  {
   "metadata": {
    "ExecuteTime": {
     "end_time": "2025-05-14T23:48:17.991560Z",
     "start_time": "2025-05-14T23:48:17.988220Z"
    }
   },
   "cell_type": "code",
   "source": "data.drop('link_flair_text', axis=1, inplace=True)",
   "id": "cadcc269e39f8fde",
   "outputs": [],
   "execution_count": 13
  },
  {
   "metadata": {
    "ExecuteTime": {
     "end_time": "2025-05-14T23:50:33.310605Z",
     "start_time": "2025-05-14T23:50:33.307512Z"
    }
   },
   "cell_type": "code",
   "source": "data.dropna(inplace=True)",
   "id": "669aa2a206db7dec",
   "outputs": [],
   "execution_count": 16
  },
  {
   "metadata": {
    "ExecuteTime": {
     "end_time": "2025-05-15T00:04:31.767015Z",
     "start_time": "2025-05-15T00:04:31.747378Z"
    }
   },
   "cell_type": "code",
   "source": [
    "# Text length and complexity\n",
    "data['title_length'] = data['title'].str.len()\n",
    "data['body_length'] = data['body'].fillna('').str.len()\n",
    "data['title_word_count'] = data['title'].str.split().str.len()\n",
    "data['body_word_count'] = data['body'].fillna('').str.split().str.len()\n",
    "\n",
    "# Questions and urgency indicators\n",
    "data['has_question_mark'] = data['title'].str.contains(r'\\?').astype(int) | data['body'].fillna('').str.contains(r'\\?').astype(int)"
   ],
   "id": "cd90ba74cd99a4f0",
   "outputs": [],
   "execution_count": 18
  },
  {
   "metadata": {
    "ExecuteTime": {
     "end_time": "2025-05-15T00:04:34.047864Z",
     "start_time": "2025-05-15T00:04:34.044841Z"
    }
   },
   "cell_type": "code",
   "source": [
    "# Normalize engagement metrics\n",
    "data['engagement_ratio'] = data['num_comments'] / (data['score'] + 1)  # Add 1 to avoid division by zero\n",
    "data['award_score_ratio'] = data['total_awards_received'] / (data['score'] + 1)\n",
    "data['popularity_score'] = data['score'] * data['upvote_ratio']"
   ],
   "id": "337b34b65789f782",
   "outputs": [],
   "execution_count": 19
  },
  {
   "metadata": {
    "ExecuteTime": {
     "end_time": "2025-05-15T00:04:34.927015Z",
     "start_time": "2025-05-15T00:04:34.921869Z"
    }
   },
   "cell_type": "code",
   "source": [
    "# Convert UTC to datetime and extract useful components\n",
    "data['created_datetime'] = pd.to_datetime(data['created_utc'], unit='s')\n",
    "data['post_hour'] = data['created_datetime'].dt.hour\n",
    "data['post_day'] = data['created_datetime'].dt.day_name()\n",
    "data['is_weekend'] = data['created_datetime'].dt.weekday.isin([5, 6]).astype(int)"
   ],
   "id": "ae0634aa02343d11",
   "outputs": [],
   "execution_count": 20
  },
  {
   "metadata": {
    "ExecuteTime": {
     "end_time": "2025-05-15T00:04:36.458132Z",
     "start_time": "2025-05-15T00:04:36.455187Z"
    }
   },
   "cell_type": "code",
   "source": [
    "# Categorize search queries\n",
    "data['query_category'] = data['search_query'].map({\n",
    "    'looking for software that': 'direct_request',\n",
    "    'need an app that': 'direct_request',\n",
    "    'app recommendation for': 'direct_request',\n",
    "    'can\\'t find software': 'problem_indicator',\n",
    "    'wish there was an app': 'problem_indicator',\n",
    "    'frustrated with current app': 'pain_point',\n",
    "    # ... add the rest of your queries\n",
    "})"
   ],
   "id": "d8a97c36229d800",
   "outputs": [],
   "execution_count": 21
  },
  {
   "metadata": {
    "ExecuteTime": {
     "end_time": "2025-05-15T00:05:34.754537Z",
     "start_time": "2025-05-15T00:05:34.730372Z"
    }
   },
   "cell_type": "code",
   "source": "data.to_csv(\"../data/labeled_post.csv\", index=False)",
   "id": "1fec08279ff636d",
   "outputs": [],
   "execution_count": 24
  },
  {
   "metadata": {
    "ExecuteTime": {
     "end_time": "2025-05-15T00:06:13.822581Z",
     "start_time": "2025-05-15T00:06:13.801780Z"
    }
   },
   "cell_type": "code",
   "source": "data = pd.read_csv('../data/labeled_post.csv')",
   "id": "3090bbb1a3c5fea5",
   "outputs": [],
   "execution_count": 26
  },
  {
   "metadata": {
    "ExecuteTime": {
     "end_time": "2025-05-15T00:06:17.063295Z",
     "start_time": "2025-05-15T00:06:17.058254Z"
    }
   },
   "cell_type": "code",
   "source": "data.info()",
   "id": "40a32e74be9c05b0",
   "outputs": [
    {
     "name": "stdout",
     "output_type": "stream",
     "text": [
      "<class 'pandas.core.frame.DataFrame'>\n",
      "RangeIndex: 498 entries, 0 to 497\n",
      "Data columns (total 27 columns):\n",
      " #   Column                 Non-Null Count  Dtype  \n",
      "---  ------                 --------------  -----  \n",
      " 0   title                  498 non-null    object \n",
      " 1   body                   498 non-null    object \n",
      " 2   subreddit              498 non-null    object \n",
      " 3   url                    498 non-null    object \n",
      " 4   score                  498 non-null    int64  \n",
      " 5   num_comments           498 non-null    int64  \n",
      " 6   upvote_ratio           498 non-null    float64\n",
      " 7   created_utc            498 non-null    float64\n",
      " 8   author                 498 non-null    object \n",
      " 9   is_original_content    498 non-null    bool   \n",
      " 10  edited                 498 non-null    bool   \n",
      " 11  total_awards_received  498 non-null    int64  \n",
      " 12  gilded                 498 non-null    int64  \n",
      " 13  search_query           498 non-null    object \n",
      " 14  title_length           498 non-null    int64  \n",
      " 15  body_length            498 non-null    int64  \n",
      " 16  title_word_count       498 non-null    int64  \n",
      " 17  body_word_count        498 non-null    int64  \n",
      " 18  has_question_mark      498 non-null    int64  \n",
      " 19  engagement_ratio       498 non-null    float64\n",
      " 20  award_score_ratio      498 non-null    float64\n",
      " 21  popularity_score       498 non-null    float64\n",
      " 22  created_datetime       498 non-null    object \n",
      " 23  post_hour              498 non-null    int64  \n",
      " 24  post_day               498 non-null    object \n",
      " 25  is_weekend             498 non-null    int64  \n",
      " 26  query_category         142 non-null    object \n",
      "dtypes: bool(2), float64(5), int64(11), object(9)\n",
      "memory usage: 98.4+ KB\n"
     ]
    }
   ],
   "execution_count": 27
  },
  {
   "metadata": {},
   "cell_type": "code",
   "outputs": [],
   "execution_count": null,
   "source": "",
   "id": "798f7701a6af71a4"
  }
 ],
 "metadata": {
  "kernelspec": {
   "display_name": "Python 3",
   "language": "python",
   "name": "python3"
  },
  "language_info": {
   "codemirror_mode": {
    "name": "ipython",
    "version": 2
   },
   "file_extension": ".py",
   "mimetype": "text/x-python",
   "name": "python",
   "nbconvert_exporter": "python",
   "pygments_lexer": "ipython2",
   "version": "2.7.6"
  }
 },
 "nbformat": 4,
 "nbformat_minor": 5
}
