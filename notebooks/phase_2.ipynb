{
 "cells": [
  {
   "cell_type": "code",
   "id": "initial_id",
   "metadata": {
    "collapsed": true,
    "ExecuteTime": {
     "end_time": "2025-05-29T21:29:41.849232Z",
     "start_time": "2025-05-29T21:29:41.846956Z"
    }
   },
   "source": [
    "import pandas as pd\n",
    "import matplotlib.pyplot as plt\n",
    "\n",
    "import warnings\n",
    "\n",
    "# Suppress Warnings\n",
    "import warnings\n",
    "warnings.filterwarnings('ignore')"
   ],
   "outputs": [],
   "execution_count": 7
  },
  {
   "metadata": {
    "ExecuteTime": {
     "end_time": "2025-05-29T21:29:41.904687Z",
     "start_time": "2025-05-29T21:29:41.885512Z"
    }
   },
   "cell_type": "code",
   "source": "data = pd.read_csv('../data/labeled_post_cleaned.csv')",
   "id": "aa6eba15bea03338",
   "outputs": [],
   "execution_count": 8
  },
  {
   "metadata": {
    "ExecuteTime": {
     "end_time": "2025-05-29T21:39:40.073090Z",
     "start_time": "2025-05-29T21:39:40.044099Z"
    }
   },
   "cell_type": "code",
   "source": [
    "import pandas as pd\n",
    "\n",
    "df_stats_nv = pd.DataFrame()\n",
    "df_stats_v = pd.DataFrame()\n",
    "\n",
    "# Title length calculations\n",
    "df_stats_nv['title_char_len'] = data[data['market_viability'] == 0]['title'].str.len()\n",
    "df_stats_nv['title_word_len'] = data[data['market_viability'] == 0]['title'].str.split().str.len()\n",
    "df_stats_nv['body_char_len'] = data[data['market_viability'] == 0]['body'].str.len()\n",
    "df_stats_nv['body_word_len'] = data[data['market_viability'] == 0]['body'].str.split().str.len()\n",
    "\n",
    "df_stats_v['title_char_len'] = data[data['market_viability'] == 1]['title'].str.len()\n",
    "df_stats_v['title_word_len'] = data[data['market_viability'] == 1]['title'].str.split().str.len()\n",
    "df_stats_v['body_char_len'] = data[data['market_viability'] == 1]['body'].str.len()\n",
    "df_stats_v['body_word_len'] = data[data['market_viability'] == 1]['body'].str.split().str.len()\n",
    "\n",
    "# Function to summarize lengths\n",
    "def summary_stats(series):\n",
    "    return {\n",
    "        \"min\": series.min(),\n",
    "        \"max\": series.max(),\n",
    "        \"mean\": series.mean(),\n",
    "        \"median\": series.median()\n",
    "    }\n",
    "\n",
    "def display_stats(stats):\n",
    "    for k, v in stats.items():\n",
    "        print(f\"{k}:\")\n",
    "        for stat, val in v.items():\n",
    "            print(f\"  {stat}: {val:.2f}\" if isinstance(val, float) else f\"  {stat}: {val}\")\n",
    "# Generate statistics\n",
    "stats = {\n",
    "    \"title_char_len_not_viable\": summary_stats(df_stats_nv['title_char_len']),\n",
    "    \"title_char_len_viable\": summary_stats(df_stats_v['title_char_len']),\n",
    "    \"title_word_len_not_viable\": summary_stats(df_stats_nv['title_word_len']),\n",
    "    \"title_word_len_viable\": summary_stats(df_stats_v['title_word_len']),\n",
    "    \"body_char_len_not_viable\": summary_stats(df_stats_nv['body_char_len']),\n",
    "    \"body_char_len_viable\": summary_stats(df_stats_v['body_char_len']),\n",
    "    \"body_word_len_not_viable\": summary_stats(df_stats_nv['body_word_len']),\n",
    "    \"body_word_len_viable\": summary_stats(df_stats_v['body_word_len']),\n",
    "}\n",
    "\n",
    "display_stats(stats)"
   ],
   "id": "6ec287695dfad942",
   "outputs": [
    {
     "name": "stdout",
     "output_type": "stream",
     "text": [
      "title_char_len_not_viable:\n",
      "  min: 2\n",
      "  max: 277\n",
      "  mean: 53.54\n",
      "  median: 47.00\n",
      "title_char_len_viable:\n",
      "  min: 10\n",
      "  max: 134\n",
      "  mean: 57.99\n",
      "  median: 55.00\n",
      "title_word_len_not_viable:\n",
      "  min: 1\n",
      "  max: 49\n",
      "  mean: 9.33\n",
      "  median: 8.00\n",
      "title_word_len_viable:\n",
      "  min: 1\n",
      "  max: 25\n",
      "  mean: 9.65\n",
      "  median: 9.00\n",
      "body_char_len_not_viable:\n",
      "  min: 14\n",
      "  max: 37482\n",
      "  mean: 3210.67\n",
      "  median: 1495.00\n",
      "body_char_len_viable:\n",
      "  min: 177\n",
      "  max: 19553\n",
      "  mean: 2656.99\n",
      "  median: 1576.00\n",
      "body_word_len_not_viable:\n",
      "  min: 2\n",
      "  max: 6637\n",
      "  mean: 551.51\n",
      "  median: 261.00\n",
      "body_word_len_viable:\n",
      "  min: 34\n",
      "  max: 3153\n",
      "  mean: 436.29\n",
      "  median: 266.00\n"
     ]
    }
   ],
   "execution_count": 14
  },
  {
   "metadata": {
    "ExecuteTime": {
     "end_time": "2025-05-29T21:40:23.577034Z",
     "start_time": "2025-05-29T21:40:23.570664Z"
    }
   },
   "cell_type": "code",
   "source": [
    "# Title length calculations\n",
    "df_stats_nv['title_num_question_marks'] = data[data['market_viability'] == 0]['title'].str.count(r'\\?')\n",
    "df_stats_nv['body_num_question_marks'] = data[data['market_viability'] == 0]['body'].str.count(r'\\?')\n",
    "\n",
    "df_stats_v['title_num_question_marks'] = data[data['market_viability'] == 1]['title'].str.count(r'\\?')\n",
    "df_stats_v['body_num_question_marks'] = data[data['market_viability'] == 1]['body'].str.count(r'\\?')\n",
    "\n",
    "# Generate statistics\n",
    "stats = {\n",
    "    \"title_num_question_marks_not_viable\": summary_stats(df_stats_nv['title_num_question_marks']),\n",
    "    \"body_num_question_marks_not_viable\": summary_stats(df_stats_nv['body_num_question_marks']),\n",
    "\n",
    "    \"title_num_question_marks_viable\": summary_stats(df_stats_v['title_num_question_marks']),\n",
    "    \"body_num_question_marks_viable\": summary_stats(df_stats_v['body_num_question_marks']),\n",
    "}\n",
    "\n",
    "display_stats(stats)"
   ],
   "id": "1daad6eda4ac520f",
   "outputs": [
    {
     "name": "stdout",
     "output_type": "stream",
     "text": [
      "title_num_question_marks_not_viable:\n",
      "  min: 0\n",
      "  max: 2\n",
      "  mean: 0.24\n",
      "  median: 0.00\n",
      "body_num_question_marks_not_viable:\n",
      "  min: 0\n",
      "  max: 51\n",
      "  mean: 2.35\n",
      "  median: 1.00\n",
      "title_num_question_marks_viable:\n",
      "  min: 0\n",
      "  max: 2\n",
      "  mean: 0.26\n",
      "  median: 0.00\n",
      "body_num_question_marks_viable:\n",
      "  min: 0\n",
      "  max: 16\n",
      "  mean: 2.15\n",
      "  median: 1.00\n"
     ]
    }
   ],
   "execution_count": 15
  },
  {
   "metadata": {},
   "cell_type": "code",
   "outputs": [],
   "execution_count": null,
   "source": [
    "fdf_stats_nv['title_num_question_words'] = data[data['market_viability'] == 0]['title'].str.count(r'\\?')\n",
    "df_stats_nv['body_num_question_words'] = data[data['market_viability'] == 0]['body'].str.count(r'\\?')\n",
    "\n",
    "df_stats_v['title_num_question_words'] = data[data['market_viability'] == 1]['title'].str.count(r'\\?')\n",
    "df_stats_v['body_num_question_words'] = data[data['market_viability'] == 1]['body'].str.count(r'\\?')\n",
    "\n",
    "stats = {\n",
    "    \"title_num_question_words_not_viable\": summary_stats(df_stats_nv['title_num_question_words']),\n",
    "    \"body_num_question_words_not_viable\": summary_stats(df_stats_nv['body_num_question_words']),\n",
    "\n",
    "    \"title_num_question_words_viable\": summary_stats(df_stats_v['title_num_question_words']),\n",
    "    \"body_num_question_words_viable\": summary_stats(df_stats_v['body_num_question_words']),\n",
    "}\n",
    "\n",
    "\n",
    "display_stats(stats)"
   ],
   "id": "c1d6711b15c088b4"
  }
 ],
 "metadata": {
  "kernelspec": {
   "display_name": "Python 3",
   "language": "python",
   "name": "python3"
  },
  "language_info": {
   "codemirror_mode": {
    "name": "ipython",
    "version": 2
   },
   "file_extension": ".py",
   "mimetype": "text/x-python",
   "name": "python",
   "nbconvert_exporter": "python",
   "pygments_lexer": "ipython2",
   "version": "2.7.6"
  }
 },
 "nbformat": 4,
 "nbformat_minor": 5
}
