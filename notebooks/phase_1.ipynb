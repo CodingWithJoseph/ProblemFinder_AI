{
 "cells": [
  {
   "metadata": {
    "ExecuteTime": {
     "end_time": "2025-07-18T16:27:16.517353Z",
     "start_time": "2025-07-18T16:27:16.514853Z"
    }
   },
   "cell_type": "code",
   "source": [
    "import os\n",
    "import pandas as pd\n",
    "import ipywidgets as widgets\n",
    "from IPython.display import display\n",
    "\n",
    "import warnings\n",
    "warnings.filterwarnings('ignore')\n",
    "\n",
    "raw_data_path = '../data/raw_data.csv'\n",
    "labeled_data_path = '../data/labeled_data.csv'"
   ],
   "id": "728a738d3118e0aa",
   "outputs": [],
   "execution_count": 4
  },
  {
   "metadata": {
    "ExecuteTime": {
     "end_time": "2025-07-18T16:27:16.619628Z",
     "start_time": "2025-07-18T16:27:16.528771Z"
    }
   },
   "cell_type": "code",
   "source": [
    "if not os.path.exists(labeled_data_path):\n",
    "    raw_data = pd.read_csv(raw_data_path)\n",
    "    data = raw_data.sample(n=3000, random_state=42)\n",
    "    data['has_been_labeled'] = 0\n",
    "    data['market_viability'] = 0\n",
    "    data = data.drop(columns=['link_flair_text'])\n",
    "    data = data.dropna(subset=['body'])\n",
    "    data.info()\n",
    "    data.to_csv(labeled_data_path)\n",
    "\n",
    "data = pd.read_csv(labeled_data_path)"
   ],
   "id": "a51fd22fd411c0af",
   "outputs": [],
   "execution_count": 5
  },
  {
   "metadata": {
    "ExecuteTime": {
     "end_time": "2025-07-18T16:27:16.643026Z",
     "start_time": "2025-07-18T16:27:16.631946Z"
    }
   },
   "cell_type": "code",
   "source": [
    "current_index = 0\n",
    "post_output = widgets.HTML()\n",
    "status_output = widgets.HTML()\n",
    "\n",
    "def create_post_html(post):\n",
    "    return f\"\"\"\n",
    "    <div style='margin-bottom: 20px'>\n",
    "        <h3>Post {current_index + 1} of {len(filtered_data())}</h3>\n",
    "        <h4>Title:</h4> {post['title']}\n",
    "        <h4>Body:</h4> {post['body']}\n",
    "    </div>\n",
    "    \"\"\"\n",
    "\n",
    "def filtered_data():\n",
    "    return data[data['has_been_labeled'] != 1]\n",
    "\n",
    "def update_status():\n",
    "    labeled = (data['has_been_labeled'] == 1).sum()\n",
    "    viable = (data['market_viability'] == 1).sum() if 'market_viability' in data.columns else 0\n",
    "\n",
    "    unlabeled = len(data) - labeled\n",
    "    status_output.value = f\"\"\"\n",
    "    <p>Progress: {labeled} labeled, {unlabeled} remaining\n",
    "       <br>Viable: {viable} identified\n",
    "    \"\"\"\n",
    "\n",
    "def show_post():\n",
    "    if len(filtered_data()) > 0:\n",
    "        post = filtered_data().iloc[current_index]\n",
    "        post_output.value = create_post_html(post)\n",
    "\n",
    "    else:\n",
    "        post_output.value = \"<h3>No posts</h3>\"\n",
    "    update_status()\n",
    "\n",
    "def on_next_clicked(b):\n",
    "    global current_index\n",
    "    current_post_idx = filtered_data().index[current_index]\n",
    "    data.at[current_post_idx, 'market_viability'] = market_viability.value\n",
    "    data.at[current_post_idx, 'has_been_labeled'] = 1\n",
    "\n",
    "    auto_save()\n",
    "    filtered = filtered_data()\n",
    "    if len(filtered) > 0 and current_index < len(filtered) - 1:\n",
    "        current_index += 1\n",
    "    elif len(filtered) == 0:\n",
    "        post_output.value = \"<h3>No more unlabeled posts!</h3>\"\n",
    "    else:\n",
    "        current_index = max(0, len(filtered) - 1)\n",
    "\n",
    "    show_post()\n",
    "\n",
    "def on_prev_clicked(b):\n",
    "    global current_index\n",
    "    if current_index > 0:\n",
    "        current_index -= 1\n",
    "        show_post()\n",
    "\n",
    "def on_label_change(change):\n",
    "    pass\n",
    "\n",
    "def auto_save():\n",
    "    data.to_csv(labeled_data_path, index=False)\n",
    "    update_status()\n",
    "\n",
    "# Create widgets\n",
    "prev_button = widgets.Button(\n",
    "    description='Previous',\n",
    "    button_style='info',\n",
    "    layout=widgets.Layout(width='100px')\n",
    ")\n",
    "next_button = widgets.Button(\n",
    "    description='Next',\n",
    "    button_style='info',\n",
    "    layout=widgets.Layout(width='100px')\n",
    ")\n",
    "\n",
    "market_viability = widgets.Dropdown(\n",
    "    options=[0, 1],\n",
    "    description='Market Viability:',\n",
    "    layout=widgets.Layout(width='300px')\n",
    ")\n",
    "\n",
    "\n",
    "# Register callbacks\n",
    "prev_button.on_click(on_prev_clicked)\n",
    "next_button.on_click(on_next_clicked)\n",
    "market_viability.observe(on_label_change, names='value')\n",
    "\n",
    "# Create the layout\n",
    "navigation = widgets.HBox([prev_button, next_button])\n",
    "controls = widgets.VBox([market_viability])\n",
    "layout = widgets.VBox([post_output, status_output, controls, navigation])\n",
    "\n",
    "# Initial display\n",
    "show_post()\n",
    "display(layout)"
   ],
   "id": "5e7120bdb26d2b68",
   "outputs": [
    {
     "data": {
      "text/plain": [
       "VBox(children=(HTML(value=\"\\n    <div style='margin-bottom: 20px'>\\n        <h3>Post 1 of 2953</h3>\\n        <…"
      ],
      "application/vnd.jupyter.widget-view+json": {
       "version_major": 2,
       "version_minor": 0,
       "model_id": "ad26cb06a59b4109a7f84bb608420181"
      }
     },
     "metadata": {},
     "output_type": "display_data"
    }
   ],
   "execution_count": 6
  },
  {
   "metadata": {
    "ExecuteTime": {
     "end_time": "2025-08-19T14:59:19.133630Z",
     "start_time": "2025-08-19T14:59:19.129393Z"
    }
   },
   "cell_type": "code",
   "source": [
    "def addfun(x):\n",
    "    if x <= 0: return 0\n",
    "    if x == 1: return 2\n",
    "    return addfun(x-1) + addfun(x-2)\n",
    "\n",
    "addfun(6)"
   ],
   "id": "5dc10c7e4c4a6b9b",
   "outputs": [
    {
     "data": {
      "text/plain": [
       "16"
      ]
     },
     "execution_count": 1,
     "metadata": {},
     "output_type": "execute_result"
    }
   ],
   "execution_count": 1
  },
  {
   "metadata": {},
   "cell_type": "code",
   "outputs": [],
   "execution_count": null,
   "source": "",
   "id": "aebcf659526ee209"
  }
 ],
 "metadata": {
  "kernelspec": {
   "display_name": "Python 3",
   "language": "python",
   "name": "python3"
  },
  "language_info": {
   "codemirror_mode": {
    "name": "ipython",
    "version": 2
   },
   "file_extension": ".py",
   "mimetype": "text/x-python",
   "name": "python",
   "nbconvert_exporter": "python",
   "pygments_lexer": "ipython2",
   "version": "2.7.6"
  }
 },
 "nbformat": 4,
 "nbformat_minor": 5
}
