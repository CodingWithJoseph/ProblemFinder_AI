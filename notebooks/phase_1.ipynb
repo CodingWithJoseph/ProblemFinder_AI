{
 "cells": [
  {
   "cell_type": "code",
   "id": "initial_id",
   "metadata": {
    "collapsed": true,
    "ExecuteTime": {
     "end_time": "2025-05-29T22:56:00.449615Z",
     "start_time": "2025-05-29T22:56:00.444169Z"
    }
   },
   "source": [
    "import re\n",
    "import html\n",
    "import pandas as pd\n",
    "\n",
    "# Suppress Warnings\n",
    "import warnings\n",
    "warnings.filterwarnings('ignore')"
   ],
   "outputs": [],
   "execution_count": 26
  },
  {
   "metadata": {
    "ExecuteTime": {
     "end_time": "2025-05-29T22:56:00.904684Z",
     "start_time": "2025-05-29T22:56:00.876431Z"
    }
   },
   "cell_type": "code",
   "source": "data = pd.read_csv('../data/labeled_post.csv', index_col='id')",
   "id": "1513185bb7cfa1b5",
   "outputs": [],
   "execution_count": 27
  },
  {
   "metadata": {
    "ExecuteTime": {
     "end_time": "2025-05-29T22:56:01.254124Z",
     "start_time": "2025-05-29T22:56:01.249529Z"
    }
   },
   "cell_type": "code",
   "source": "data.drop(['url', 'created_datetime', 'query_category', 'time_to_mvp', 'business_model', 'has_been_labeled'], axis=1, inplace=True)",
   "id": "5b2225a10029455d",
   "outputs": [],
   "execution_count": 28
  },
  {
   "metadata": {
    "ExecuteTime": {
     "end_time": "2025-05-29T22:56:01.661972Z",
     "start_time": "2025-05-29T22:56:01.654667Z"
    }
   },
   "cell_type": "code",
   "source": [
    "def check_and_convert_text(text):\n",
    "    if pd.isna(text) or text is None:\n",
    "        return \"\"\n",
    "    if not isinstance(text, str):\n",
    "        return str(text)\n",
    "    return text\n",
    "\n",
    "\n",
    "def clean_html_entities(text):\n",
    "    \"\"\"Unescape HTML entities.\"\"\"\n",
    "    text = check_and_convert_text(text)\n",
    "    return html.unescape(text)\n",
    "\n",
    "\n",
    "def clean_escaped_chars(text):\n",
    "    \"\"\"Replace escaped characters with actual ones.\"\"\"\n",
    "    text = check_and_convert_text(text)\n",
    "    # Replace literal \"\\n\", \"\\r\" etc with spaces\n",
    "    text = text.replace('\\\\n', ' ').replace('\\\\r', ' ').replace('\\\\t', ' ')\n",
    "    # Clean up any escaped markdown that may linger\n",
    "    text = text.replace('\\\\*', '').replace('\\\\\\\\', '').replace('\\\\\"', '').replace(\"\\\\'\", '')\n",
    "    return text\n",
    "\n",
    "\n",
    "def remove_urls(text):\n",
    "    \"\"\"Remove URLs including both http and non-http prefixed ones.\"\"\"\n",
    "    text = check_and_convert_text(text)\n",
    "    # Remove URLs with http/https/www\n",
    "    text = re.sub(r'https?://\\S+|www\\.\\S+', '', text, flags=re.MULTILINE)\n",
    "    # Remove common domain patterns without http prefix\n",
    "    text = re.sub(r'\\S+\\.(com|org|net|io|edu|gov|co)\\S*', '', text, flags=re.IGNORECASE)\n",
    "    return text\n",
    "\n",
    "\n",
    "def remove_reddit_elements(text):\n",
    "    \"\"\"Remove Reddit-specific elements like subreddit references and usernames.\"\"\"\n",
    "    text = check_and_convert_text(text)\n",
    "    # Remove subreddit references\n",
    "    text = re.sub(r'(^|\\s)/?r/\\w+', ' ', text)\n",
    "    # Remove username mentions\n",
    "    text = re.sub(r'(^|\\s)/?u/\\w+', ' ', text)\n",
    "    return text\n",
    "\n",
    "\n",
    "def remove_markdown(text):\n",
    "    \"\"\"Remove markdown formatting like bold, italic, links, etc.\"\"\"\n",
    "    text = check_and_convert_text(text)\n",
    "    # Links with display text\n",
    "    text = re.sub(r'\\[([^\\]]+)\\]\\([^)]+\\)', r'\\1', text)\n",
    "    # Headers (# Header)\n",
    "    text = re.sub(r'^#+\\s+', '', text, flags=re.MULTILINE)\n",
    "    # Bold, italic, strikethrough\n",
    "    text = re.sub(r'\\*\\*([^*]+)\\*\\*', r'\\1', text)  # Bold\n",
    "    text = re.sub(r'\\*([^*]+)\\*', r'\\1', text)  # Italic\n",
    "    text = re.sub(r'~~([^~]+)~~', r'\\1', text)  # Strikethrough\n",
    "    text = re.sub(r'__([^_]+)__', r'\\1', text)  # Bold (alternate)\n",
    "    text = re.sub(r'_([^_]+)_', r'\\1', text)  # Italic (alternate)\n",
    "    return text\n",
    "\n",
    "\n",
    "def remove_quotes_and_code(text):\n",
    "    \"\"\"Remove quote blocks and code blocks.\"\"\"\n",
    "    text = check_and_convert_text(text)\n",
    "    # Remove quote blocks\n",
    "    text = re.sub(r'^>.*$', '', text, flags=re.MULTILINE)\n",
    "    # Remove inline code\n",
    "    text = re.sub(r'`[^`]*`', '', text)\n",
    "    # Remove code blocks\n",
    "    text = re.sub(r'```[\\s\\S]*?```', '', text)\n",
    "    return text\n",
    "\n",
    "\n",
    "def clean_special_elements(text):\n",
    "    \"\"\"Remove or clean special elements like bullet points, hashtags.\"\"\"\n",
    "    text = check_and_convert_text(text)\n",
    "    # Replace bullet points with standard form\n",
    "    text = re.sub(r'^\\s*[\\*\\+\\-]\\s+', '• ', text, flags=re.MULTILINE)\n",
    "    text = re.sub(r'^\\s*\\d+\\.\\s+', '• ', text, flags=re.MULTILINE)\n",
    "    # Remove hashtags symbol but keep the text\n",
    "    text = re.sub(r'#(\\w+)', r'\\1', text)\n",
    "    # Remove emojis\n",
    "    text = re.sub(r':[a-z_]+:', '', text)\n",
    "    return text\n",
    "\n",
    "\n",
    "def clean_special_chars(text):\n",
    "    \"\"\"Remove special characters but keep meaningful punctuation.\"\"\"\n",
    "    text = check_and_convert_text(text)\n",
    "    # Keep alphanumerics and important punctuation\n",
    "    text = re.sub(r'[^\\w\\s\\.\\,\\!\\?\\-\\']', ' ', text)\n",
    "    # Remove repeated punctuation\n",
    "    text = re.sub(r'([.!?,;]){2,}', r'\\1', text)\n",
    "    return text\n",
    "\n",
    "\n",
    "def convert_to_lowercase(text):\n",
    "    \"\"\"Convert text to lowercase for uncased models.\"\"\"\n",
    "    text = check_and_convert_text(text)\n",
    "    return text.lower()\n",
    "\n",
    "\n",
    "def normalize_whitespace(text):\n",
    "    \"\"\"Normalize whitespace to single spaces and strip.\"\"\"\n",
    "    text = check_and_convert_text(text)\n",
    "    # Replace all whitespace with a single space\n",
    "    text = re.sub(r'\\s+', ' ', text)\n",
    "    return text.strip()\n",
    "\n",
    "\n",
    "def truncate_for_bert(text, max_words=450):\n",
    "    \"\"\"Truncate text to fit BERT's token limit (approximation).\"\"\"\n",
    "    text = check_and_convert_text(text)\n",
    "    words = text.split()\n",
    "    if len(words) > max_words:\n",
    "        return ' '.join(words[:max_words])\n",
    "    return text\n",
    "\n",
    "\n",
    "def clean_text_for_bert_uncased(text):\n",
    "    text = check_and_convert_text(text)\n",
    "\n",
    "    # Apply cleaning steps in sequence\n",
    "    text = clean_html_entities(text)\n",
    "    text = clean_escaped_chars(text)\n",
    "    text = remove_urls(text)\n",
    "    text = remove_reddit_elements(text)\n",
    "    text = remove_markdown(text)\n",
    "    text = remove_quotes_and_code(text)\n",
    "    text = clean_special_elements(text)\n",
    "    text = clean_special_chars(text)\n",
    "    text = convert_to_lowercase(text)\n",
    "    text = normalize_whitespace(text)\n",
    "    text = truncate_for_bert(text)\n",
    "\n",
    "    return text"
   ],
   "id": "1558dd9a83e9edc4",
   "outputs": [],
   "execution_count": 29
  },
  {
   "metadata": {
    "ExecuteTime": {
     "end_time": "2025-05-29T22:56:04.104733Z",
     "start_time": "2025-05-29T22:56:04.098125Z"
    }
   },
   "cell_type": "code",
   "source": "data.info()",
   "id": "116d13e5138649e4",
   "outputs": [
    {
     "name": "stdout",
     "output_type": "stream",
     "text": [
      "<class 'pandas.core.frame.DataFrame'>\n",
      "Index: 498 entries, 0 to 497\n",
      "Data columns (total 25 columns):\n",
      " #   Column                 Non-Null Count  Dtype  \n",
      "---  ------                 --------------  -----  \n",
      " 0   title                  498 non-null    object \n",
      " 1   body                   498 non-null    object \n",
      " 2   subreddit              498 non-null    object \n",
      " 3   score                  498 non-null    int64  \n",
      " 4   num_comments           498 non-null    int64  \n",
      " 5   upvote_ratio           498 non-null    float64\n",
      " 6   created_utc            498 non-null    float64\n",
      " 7   author                 498 non-null    object \n",
      " 8   is_original_content    498 non-null    bool   \n",
      " 9   edited                 498 non-null    bool   \n",
      " 10  total_awards_received  498 non-null    int64  \n",
      " 11  gilded                 498 non-null    int64  \n",
      " 12  search_query           498 non-null    object \n",
      " 13  title_length           498 non-null    int64  \n",
      " 14  body_length            498 non-null    int64  \n",
      " 15  title_word_count       498 non-null    int64  \n",
      " 16  body_word_count        498 non-null    int64  \n",
      " 17  has_question_mark      498 non-null    int64  \n",
      " 18  engagement_ratio       498 non-null    float64\n",
      " 19  award_score_ratio      498 non-null    float64\n",
      " 20  popularity_score       498 non-null    float64\n",
      " 21  post_hour              498 non-null    int64  \n",
      " 22  post_day               498 non-null    object \n",
      " 23  is_weekend             498 non-null    int64  \n",
      " 24  market_viability       498 non-null    object \n",
      "dtypes: bool(2), float64(5), int64(11), object(7)\n",
      "memory usage: 94.3+ KB\n"
     ]
    }
   ],
   "execution_count": 30
  },
  {
   "metadata": {
    "ExecuteTime": {
     "end_time": "2025-05-29T22:56:17.234940Z",
     "start_time": "2025-05-29T22:56:17.230697Z"
    }
   },
   "cell_type": "code",
   "source": [
    "data.drop('author', axis=1, inplace=True)\n",
    "data['market_viability'] = data['market_viability'].map({'Viable': 1, 'Not Viable': 0})\n",
    "data['post_day'] = data['post_day'].map(\n",
    "    {\n",
    "    'monday': 0,\n",
    "    'tuesday': 1,\n",
    "    'wednesday': 2,\n",
    "    'thursday': 3,\n",
    "    'friday': 4,\n",
    "    'saturday': 5,\n",
    "    'sunday': 7\n",
    "    }\n",
    ")"
   ],
   "id": "66a325c2a3715fdd",
   "outputs": [],
   "execution_count": 33
  },
  {
   "metadata": {
    "ExecuteTime": {
     "end_time": "2025-05-29T22:56:19.012003Z",
     "start_time": "2025-05-29T22:56:19.003727Z"
    }
   },
   "cell_type": "code",
   "source": [
    "data['title_num_of_question_marks'] = data['title'].str.count('\\?')\n",
    "data['body_num_of_question_marks'] = data['body'].str.count('\\?')\n",
    "data.info()"
   ],
   "id": "df3c3a28bfba918e",
   "outputs": [
    {
     "name": "stdout",
     "output_type": "stream",
     "text": [
      "<class 'pandas.core.frame.DataFrame'>\n",
      "Index: 498 entries, 0 to 497\n",
      "Data columns (total 26 columns):\n",
      " #   Column                       Non-Null Count  Dtype  \n",
      "---  ------                       --------------  -----  \n",
      " 0   title                        498 non-null    object \n",
      " 1   body                         498 non-null    object \n",
      " 2   subreddit                    498 non-null    object \n",
      " 3   score                        498 non-null    int64  \n",
      " 4   num_comments                 498 non-null    int64  \n",
      " 5   upvote_ratio                 498 non-null    float64\n",
      " 6   created_utc                  498 non-null    float64\n",
      " 7   is_original_content          498 non-null    bool   \n",
      " 8   edited                       498 non-null    bool   \n",
      " 9   total_awards_received        498 non-null    int64  \n",
      " 10  gilded                       498 non-null    int64  \n",
      " 11  search_query                 498 non-null    object \n",
      " 12  title_length                 498 non-null    int64  \n",
      " 13  body_length                  498 non-null    int64  \n",
      " 14  title_word_count             498 non-null    int64  \n",
      " 15  body_word_count              498 non-null    int64  \n",
      " 16  has_question_mark            498 non-null    int64  \n",
      " 17  engagement_ratio             498 non-null    float64\n",
      " 18  award_score_ratio            498 non-null    float64\n",
      " 19  popularity_score             498 non-null    float64\n",
      " 20  post_hour                    498 non-null    int64  \n",
      " 21  post_day                     0 non-null      float64\n",
      " 22  is_weekend                   498 non-null    int64  \n",
      " 23  market_viability             498 non-null    int64  \n",
      " 24  title_num_of_question_marks  498 non-null    int64  \n",
      " 25  body_num_of_question_marks   498 non-null    int64  \n",
      "dtypes: bool(2), float64(6), int64(14), object(4)\n",
      "memory usage: 114.4+ KB\n"
     ]
    }
   ],
   "execution_count": 34
  },
  {
   "metadata": {
    "ExecuteTime": {
     "end_time": "2025-05-29T22:56:22.060971Z",
     "start_time": "2025-05-29T22:56:22.033635Z"
    }
   },
   "cell_type": "code",
   "source": "data.to_csv('../data/labeled_post_cleaned.csv')",
   "id": "4ddd94789aa78840",
   "outputs": [],
   "execution_count": 35
  }
 ],
 "metadata": {
  "kernelspec": {
   "display_name": "Python 3",
   "language": "python",
   "name": "python3"
  },
  "language_info": {
   "codemirror_mode": {
    "name": "ipython",
    "version": 2
   },
   "file_extension": ".py",
   "mimetype": "text/x-python",
   "name": "python",
   "nbconvert_exporter": "python",
   "pygments_lexer": "ipython2",
   "version": "2.7.6"
  }
 },
 "nbformat": 4,
 "nbformat_minor": 5
}
