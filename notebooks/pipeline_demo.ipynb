{
 "cells": [
  {
   "cell_type": "markdown",
   "metadata": {},
   "source": [
    "# ProblemFinder Pipeline Demo\n",
    "This notebook demonstrates how to run the deduplication and classification pipeline from Python."
   ]
  },
  {
   "cell_type": "code",
   "execution_count": null,
   "metadata": {},
   "outputs": [],
   "source": [
    "from pathlib import Path\n",
    "\n",
    "import pandas as pd\n",
    "\n",
    "from problemfinder.core.cache import ResponseCache\n",
    "from problemfinder.core.configuration import build_run_config\n",
    "from problemfinder.core.pipeline import run_pipeline\n",
    "from problemfinder.utils.io import load_dataframe\n",
    "from problemfinder.utils.rate_limit import RateLimiter\n",
    "\n",
    "# Load the CLI-style configuration\n",
    "from argparse import Namespace\n",
    "\n",
    "args = Namespace(\n",
    "    config=Path(\"config.yaml\"),\n",
    "    input=Path(\"data/raw_data.csv\"),\n",
    "    output=Path(\"data/labeled_sample.csv\"),\n",
    "    dedupe='on',\n",
    "    similarity_threshold=0.5,\n",
    "    soft_similarity_threshold=0.35,\n",
    "    canonical_policy='earliest',\n",
    "    dedupe_report=None,\n",
    "    no_split=False,\n",
    "    train_ratio=0.8,\n",
    "    val_ratio=0.1,\n",
    "    test_ratio=0.1,\n",
    "    ensemble='off',\n",
    "    ensemble_members='direct,reasoning,rules',\n",
    "    ensemble_disagreement_threshold=0.3,\n",
    "    model='gpt-4o',\n",
    "    temperature=None,\n",
    "    seed=None,\n",
    "    cache=None,\n",
    "    cache_ttl=None,\n",
    "    cache_path=None,\n",
    "    max_workers=None,\n",
    "    rate_limit=None,\n",
    "    chunk_size=None,\n",
    "    evaluation=None,\n",
    "    evaluation_gold_set=None,\n",
    "    report_path=None,\n",
    "    resume=False,\n",
    "    resume_from=None,\n",
    "    log_level='INFO',\n",
    ")\n",
    "\n",
    "df = load_dataframe(args.input)\n",
    "run_config = build_run_config(args)\n",
    "cache = ResponseCache(run_config.cache)\n",
    "rate_limiter = RateLimiter(run_config.parallel.rate_limit)\n",
    "\n",
    "results = run_pipeline(\n",
    "    df=df,\n",
    "    run_config=run_config,\n",
    "    cache=cache,\n",
    "    rate_limiter=rate_limiter,\n",
    ")\n",
    "\n",
    "results['canonical_df'].head()"
   ]
  }
 ],
 "metadata": {
  "kernelspec": {
   "display_name": "Python 3",
   "language": "python",
   "name": "python3"
  },
  "language_info": {
   "name": "python",
   "version": "3.10"
  }
 },
 "nbformat": 4,
 "nbformat_minor": 5
}
