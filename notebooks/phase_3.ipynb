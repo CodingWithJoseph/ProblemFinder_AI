{
 "cells": [
  {
   "cell_type": "code",
   "id": "initial_id",
   "metadata": {
    "collapsed": true,
    "ExecuteTime": {
     "end_time": "2025-06-07T03:01:27.114413Z",
     "start_time": "2025-06-07T03:01:26.958314Z"
    }
   },
   "source": [
    "import torch\n",
    "import numpy as np\n",
    "import pandas as pd\n",
    "from transformers import AutoTokenizer, AutoModel\n",
    "\n",
    "# Suppress Warnings\n",
    "import warnings\n",
    "warnings.filterwarnings('ignore')"
   ],
   "outputs": [],
   "execution_count": 5
  },
  {
   "metadata": {
    "ExecuteTime": {
     "end_time": "2025-06-07T03:01:27.291207Z",
     "start_time": "2025-06-07T03:01:27.269180Z"
    }
   },
   "cell_type": "code",
   "source": "data = pd.read_csv('../data/labeled_cleaned_data.csv')",
   "id": "aa6eba15bea03338",
   "outputs": [],
   "execution_count": 6
  },
  {
   "metadata": {
    "ExecuteTime": {
     "end_time": "2025-06-07T03:02:02.311383Z",
     "start_time": "2025-06-07T03:02:01.773045Z"
    }
   },
   "cell_type": "code",
   "source": [
    "device = torch.device(\"cuda\" if torch.cuda.is_available() else \"cpu\")\n",
    "\n",
    "tokenizer = AutoTokenizer.from_pretrained('bert-base-cased')\n",
    "model = AutoModel.from_pretrained('bert-base-cased').to(device)\n",
    "model.eval()"
   ],
   "id": "ae9bbf713570f838",
   "outputs": [
    {
     "data": {
      "text/plain": [
       "BertModel(\n",
       "  (embeddings): BertEmbeddings(\n",
       "    (word_embeddings): Embedding(28996, 768, padding_idx=0)\n",
       "    (position_embeddings): Embedding(512, 768)\n",
       "    (token_type_embeddings): Embedding(2, 768)\n",
       "    (LayerNorm): LayerNorm((768,), eps=1e-12, elementwise_affine=True)\n",
       "    (dropout): Dropout(p=0.1, inplace=False)\n",
       "  )\n",
       "  (encoder): BertEncoder(\n",
       "    (layer): ModuleList(\n",
       "      (0-11): 12 x BertLayer(\n",
       "        (attention): BertAttention(\n",
       "          (self): BertSdpaSelfAttention(\n",
       "            (query): Linear(in_features=768, out_features=768, bias=True)\n",
       "            (key): Linear(in_features=768, out_features=768, bias=True)\n",
       "            (value): Linear(in_features=768, out_features=768, bias=True)\n",
       "            (dropout): Dropout(p=0.1, inplace=False)\n",
       "          )\n",
       "          (output): BertSelfOutput(\n",
       "            (dense): Linear(in_features=768, out_features=768, bias=True)\n",
       "            (LayerNorm): LayerNorm((768,), eps=1e-12, elementwise_affine=True)\n",
       "            (dropout): Dropout(p=0.1, inplace=False)\n",
       "          )\n",
       "        )\n",
       "        (intermediate): BertIntermediate(\n",
       "          (dense): Linear(in_features=768, out_features=3072, bias=True)\n",
       "          (intermediate_act_fn): GELUActivation()\n",
       "        )\n",
       "        (output): BertOutput(\n",
       "          (dense): Linear(in_features=3072, out_features=768, bias=True)\n",
       "          (LayerNorm): LayerNorm((768,), eps=1e-12, elementwise_affine=True)\n",
       "          (dropout): Dropout(p=0.1, inplace=False)\n",
       "        )\n",
       "      )\n",
       "    )\n",
       "  )\n",
       "  (pooler): BertPooler(\n",
       "    (dense): Linear(in_features=768, out_features=768, bias=True)\n",
       "    (activation): Tanh()\n",
       "  )\n",
       ")"
      ]
     },
     "execution_count": 8,
     "metadata": {},
     "output_type": "execute_result"
    }
   ],
   "execution_count": 8
  },
  {
   "metadata": {
    "ExecuteTime": {
     "end_time": "2025-06-07T03:02:13.098637Z",
     "start_time": "2025-06-07T03:02:13.094341Z"
    }
   },
   "cell_type": "code",
   "source": [
    "def get_bert_sentence_embedding(text):\n",
    "    if pd.isna(text) or not isinstance(text, str) or text.strip() == \"\":\n",
    "        return np.zeros(model.config.hidden_size, dtype=np.float32)\n",
    "\n",
    "    inputs = tokenizer(text, return_tensors='pt', padding=True, truncation=True, max_length=512)\n",
    "    inputs = {k: v.to(device) for k, v in inputs.items()}\n",
    "\n",
    "    with torch.no_grad():\n",
    "        outputs = model(**inputs)\n",
    "\n",
    "    sentence_embedding = outputs.last_hidden_state[:, 0, :].squeeze().cpu().numpy()\n",
    "    return sentence_embedding"
   ],
   "id": "c980ae99a0452b05",
   "outputs": [],
   "execution_count": 9
  },
  {
   "metadata": {
    "ExecuteTime": {
     "end_time": "2025-06-07T03:03:29.272151Z",
     "start_time": "2025-06-07T03:02:13.531271Z"
    }
   },
   "cell_type": "code",
   "source": [
    "data['title'] = data['title'].apply(lambda x: get_bert_sentence_embedding(x))\n",
    "data['body'] = data['body'].apply(lambda x: get_bert_sentence_embedding(x))"
   ],
   "id": "812bb83311f81b27",
   "outputs": [],
   "execution_count": 10
  },
  {
   "metadata": {
    "ExecuteTime": {
     "end_time": "2025-06-07T04:40:32.154824Z",
     "start_time": "2025-06-07T04:40:32.094534Z"
    }
   },
   "cell_type": "code",
   "source": [
    "title_bert_features = pd.DataFrame(data['title'].tolist(), index=data.index)\n",
    "title_bert_features = title_bert_features.add_prefix('title_')"
   ],
   "id": "226e9bea5f5c2890",
   "outputs": [],
   "execution_count": 25
  },
  {
   "metadata": {
    "ExecuteTime": {
     "end_time": "2025-06-07T04:40:32.946303Z",
     "start_time": "2025-06-07T04:40:32.883820Z"
    }
   },
   "cell_type": "code",
   "source": [
    "body_bert_features = pd.DataFrame(data['body'].tolist(), index=data.index)\n",
    "body_bert_features = body_bert_features.add_prefix('body_')"
   ],
   "id": "bc5d05705827357a",
   "outputs": [],
   "execution_count": 26
  },
  {
   "metadata": {
    "ExecuteTime": {
     "end_time": "2025-06-07T04:40:35.499249Z",
     "start_time": "2025-06-07T04:40:35.496263Z"
    }
   },
   "cell_type": "code",
   "source": [
    "print(f\"Shape of expanded title BERT features: {title_bert_features.shape}\")\n",
    "print(f\"Shape of expanded body BERT features: {body_bert_features.shape}\")"
   ],
   "id": "1ea880131cb4823a",
   "outputs": [
    {
     "name": "stdout",
     "output_type": "stream",
     "text": [
      "Shape of expanded title BERT features: (498, 768)\n",
      "Shape of expanded body BERT features: (498, 768)\n"
     ]
    }
   ],
   "execution_count": 27
  }
 ],
 "metadata": {
  "kernelspec": {
   "display_name": "Python 3",
   "language": "python",
   "name": "python3"
  },
  "language_info": {
   "codemirror_mode": {
    "name": "ipython",
    "version": 2
   },
   "file_extension": ".py",
   "mimetype": "text/x-python",
   "name": "python",
   "nbconvert_exporter": "python",
   "pygments_lexer": "ipython2",
   "version": "2.7.6"
  }
 },
 "nbformat": 4,
 "nbformat_minor": 5
}
