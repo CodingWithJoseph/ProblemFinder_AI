{
 "cells": [
  {
   "cell_type": "markdown",
   "id": "35775e8d",
   "metadata": {},
   "source": [
    "\n",
    "# Labeled Reddit Post Reviewer\n",
    "\n",
    "Browse each labeled Reddit post one-by-one. Use the **Previous** and **Next** buttons below to move through entries without rerunning cells.\n"
   ]
  },
  {
   "cell_type": "code",
   "id": "d9571523",
   "metadata": {
    "ExecuteTime": {
     "end_time": "2025-10-07T03:52:47.481781Z",
     "start_time": "2025-10-07T03:52:47.479644Z"
    }
   },
   "source": [
    "import html\n",
    "import pandas as pd\n",
    "import ipywidgets as widgets\n",
    "from IPython.display import display"
   ],
   "outputs": [],
   "execution_count": 9
  },
  {
   "metadata": {
    "ExecuteTime": {
     "end_time": "2025-10-07T03:52:48.413997Z",
     "start_time": "2025-10-07T03:52:48.409414Z"
    }
   },
   "cell_type": "code",
   "source": [
    "df = pd.read_csv(\"../data/labeled_sample.csv\")\n",
    "total_entries = len(df)\n",
    "print(set(df.solution_domain))"
   ],
   "id": "21077e18a82907f",
   "outputs": [
    {
     "name": "stdout",
     "output_type": "stream",
     "text": [
      "{'not_applicable', 'software_plus_hardware', '-', 'software_plus_external', 'software_only'}\n"
     ]
    }
   ],
   "execution_count": 10
  },
  {
   "cell_type": "code",
   "id": "485aee5c",
   "metadata": {
    "ExecuteTime": {
     "end_time": "2025-10-07T03:29:25.100008Z",
     "start_time": "2025-10-07T03:29:25.086335Z"
    }
   },
   "source": [
    "current_index = 0\n",
    "\n",
    "if total_entries == 0:\n",
    "    display(widgets.HTML(value=\"<b>No labeled entries found in the dataset.</b>\"))\n",
    "else:\n",
    "    style_block = widgets.HTML(value=\"\"\"\n",
    "    <style>\n",
    "    .reddit-review-container {\n",
    "        max-width: 900px;\n",
    "        margin: 0 auto;\n",
    "        font-family: 'Segoe UI', Tahoma, sans-serif;\n",
    "        line-height: 1.5;\n",
    "    }\n",
    "    .reddit-card {\n",
    "        background: #ffffff;\n",
    "        border-radius: 12px;\n",
    "        box-shadow: 0 6px 18px rgba(0, 0, 0, 0.08);\n",
    "        padding: 24px 28px;\n",
    "        margin-top: 16px;\n",
    "        border: 1px solid #e0e0e0;\n",
    "    }\n",
    "    .reddit-title {\n",
    "        font-size: 24px;\n",
    "        font-weight: 600;\n",
    "        margin-bottom: 16px;\n",
    "        color: #000000;\n",
    "        max-height: 180px;\n",
    "        overflow-y: auto;\n",
    "        padding-right: 8px;\n",
    "    }\n",
    "    .reddit-body {\n",
    "        font-size: 16px;\n",
    "        background: #f9fafc;\n",
    "        color: #000000;\n",
    "        border-radius: 10px;\n",
    "        padding: 18px;\n",
    "        border: 1px solid #dfe3eb;\n",
    "        overflow-y: visible;\n",
    "        white-space: pre-wrap;\n",
    "    }\n",
    "    .classification-section {\n",
    "        margin-top: 28px;\n",
    "        padding: 18px 18px 12px 18px;\n",
    "        border-top: 2px solid #e3e6ef;\n",
    "        background: #f5f7fb;\n",
    "        border-radius: 0 0 12px 12px;\n",
    "    }\n",
    "    .classification-title {\n",
    "        font-size: 18px;\n",
    "        font-weight: 700;\n",
    "        margin-bottom: 12px;\n",
    "        color: #000000;\n",
    "    }\n",
    "    .classification-row {\n",
    "        display: flex;\n",
    "        gap: 12px;\n",
    "        margin-bottom: 10px;\n",
    "        font-size: 16px;\n",
    "    }\n",
    "    .classification-label {\n",
    "        min-width: 150px;\n",
    "        font-weight: 600;\n",
    "        color: #000000;\n",
    "    }\n",
    "    .entry-counter {\n",
    "        font-size: 14px;\n",
    "        color: #546e7a;\n",
    "        padding-top: 6px;\n",
    "    }\n",
    "    </style>\n",
    "    \"\"\")\n",
    "\n",
    "    header_html = widgets.HTML(value=f\"<h2>Total labeled entries: {total_entries}</h2>\")\n",
    "    entry_counter = widgets.HTML(layout=widgets.Layout(margin='0 12px'))\n",
    "\n",
    "    prev_button = widgets.Button(description='Previous', icon='arrow-left', button_style='')\n",
    "    next_button = widgets.Button(description='Next', icon='arrow-right', button_style='')\n",
    "\n",
    "    button_box = widgets.HBox(\n",
    "        [prev_button, entry_counter, next_button],\n",
    "        layout=widgets.Layout(justify_content='space-between', align_items='center')\n",
    "    )\n",
    "\n",
    "    card_html = widgets.HTML()\n",
    "\n",
    "    container = widgets.VBox(\n",
    "        [style_block, header_html, button_box, card_html],\n",
    "        layout=widgets.Layout(width='100%'),\n",
    "    )\n",
    "\n",
    "    def sanitize(text: str) -> str:\n",
    "        if pd.isna(text) or text == '':\n",
    "            return \"<em>Not provided.</em>\"\n",
    "        return html.escape(str(text))\n",
    "\n",
    "    def format_entry(index: int):\n",
    "        row = df.iloc[index]\n",
    "        title = sanitize(row.get('title', ''))\n",
    "        body = sanitize(row.get('body', ''))\n",
    "        is_problem = int(row.get('is_problem', 0))\n",
    "        solution_domain = row.get('solution_domain', '')\n",
    "        solution_domain = '—' if pd.isna(solution_domain) or solution_domain == '' else html.escape(str(solution_domain))\n",
    "\n",
    "        status_icon = '✅' if is_problem == 1 else '❌'\n",
    "\n",
    "        classification_html = f\"\"\"\n",
    "            <div class='classification-section'>\n",
    "                <div class='classification-title'>Classification</div>\n",
    "                <div class='classification-row'>\n",
    "                    <div class='classification-label'>Is Problem</div>\n",
    "                    <div style='color: #000000; font-weight: 600;'>{status_icon} {is_problem}</div>\n",
    "                </div>\n",
    "                <div class='classification-row'>\n",
    "                    <div class='classification-label'>Solution Domain</div>\n",
    "                    <div style='color: #000000;'>{solution_domain}</div>\n",
    "                </div>\n",
    "            </div>\n",
    "        \"\"\"\n",
    "\n",
    "        card = (\n",
    "            \"<div class='reddit-card'>\"\n",
    "            f\"<div class='reddit-title'>{title}</div>\"\n",
    "            f\"<div class='reddit-body'>{body}</div>\"\n",
    "            f\"{classification_html}\"\n",
    "            \"</div>\"\n",
    "        )\n",
    "        return card\n",
    "\n",
    "    def update_display(index: int):\n",
    "        card_html.value = format_entry(index)\n",
    "        entry_counter.value = f\"<div class='entry-counter'>Entry {index + 1} of {total_entries}</div>\"\n",
    "        prev_button.disabled = index == 0\n",
    "        next_button.disabled = index == total_entries - 1\n",
    "\n",
    "    def on_prev_click(_):\n",
    "        global current_index\n",
    "        if current_index > 0:\n",
    "            current_index -= 1\n",
    "            update_display(current_index)\n",
    "\n",
    "    def on_next_click(_):\n",
    "        global current_index\n",
    "        if current_index < total_entries - 1:\n",
    "            current_index += 1\n",
    "            update_display(current_index)\n",
    "\n",
    "    prev_button.on_click(on_prev_click)\n",
    "    next_button.on_click(on_next_click)\n",
    "\n",
    "    update_display(current_index)\n",
    "    display(container)\n"
   ],
   "outputs": [
    {
     "data": {
      "text/plain": [
       "VBox(children=(HTML(value=\"\\n    <style>\\n    .reddit-review-container {\\n        max-width: 900px;\\n        m…"
      ],
      "application/vnd.jupyter.widget-view+json": {
       "version_major": 2,
       "version_minor": 0,
       "model_id": "61ce0c4b68df41738fb6462eaf49680d"
      }
     },
     "metadata": {},
     "output_type": "display_data"
    }
   ],
   "execution_count": 2
  }
 ],
 "metadata": {},
 "nbformat": 4,
 "nbformat_minor": 5
}
